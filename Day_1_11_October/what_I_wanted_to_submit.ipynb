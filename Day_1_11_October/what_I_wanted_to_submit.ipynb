{
  "nbformat": 4,
  "nbformat_minor": 0,
  "metadata": {
    "colab": {
      "name": "basic_steps.ipynb",
      "provenance": [],
      "collapsed_sections": [],
      "toc_visible": true
    },
    "kernelspec": {
      "display_name": "Python 3",
      "language": "python",
      "name": "python3"
    },
    "language_info": {
      "codemirror_mode": {
        "name": "ipython",
        "version": 3
      },
      "file_extension": ".py",
      "mimetype": "text/x-python",
      "name": "python",
      "nbconvert_exporter": "python",
      "pygments_lexer": "ipython3",
      "version": "3.6.8"
    }
  },
  "cells": [
    {
      "cell_type": "markdown",
      "metadata": {
        "id": "B4-4wcMKVZ6e"
      },
      "source": [
        "##### Importing necessary libraries"
      ]
    },
    {
      "cell_type": "code",
      "metadata": {
        "id": "YgqUQ-Ixtum-"
      },
      "source": [
        "import pandas as pd\n",
        "import numpy as np"
      ],
      "execution_count": 1,
      "outputs": []
    },
    {
      "cell_type": "markdown",
      "metadata": {
        "id": "SE6YzLxaVlDl"
      },
      "source": [
        "##### Importing Data"
      ]
    },
    {
      "cell_type": "code",
      "metadata": {
        "id": "YZw2Bgvmt0o2"
      },
      "source": [
        "deli = pd.read_csv(\"https://raw.githubusercontent.com/shashwatk1/IPL_Data_Analysis/main/data/deliveries.csv\")\n",
        "match = pd.read_csv(\"https://raw.githubusercontent.com/shashwatk1/IPL_Data_Analysis/main/data/matches.csv\")"
      ],
      "execution_count": 2,
      "outputs": []
    },
    {
      "cell_type": "code",
      "metadata": {
        "id": "pr5I5ilHt707",
        "scrolled": true,
        "outputId": "2142c2b8-d016-4e5c-f6fe-ce167f694ce8",
        "colab": {
          "base_uri": "https://localhost:8080/",
          "height": 411
        }
      },
      "source": [
        "print(\"Deliveries:\",deli.shape)\n",
        "deli.head()"
      ],
      "execution_count": 3,
      "outputs": [
        {
          "output_type": "stream",
          "text": [
            "Deliveries: (179078, 21)\n"
          ],
          "name": "stdout"
        },
        {
          "output_type": "execute_result",
          "data": {
            "text/html": [
              "<div>\n",
              "<style scoped>\n",
              "    .dataframe tbody tr th:only-of-type {\n",
              "        vertical-align: middle;\n",
              "    }\n",
              "\n",
              "    .dataframe tbody tr th {\n",
              "        vertical-align: top;\n",
              "    }\n",
              "\n",
              "    .dataframe thead th {\n",
              "        text-align: right;\n",
              "    }\n",
              "</style>\n",
              "<table border=\"1\" class=\"dataframe\">\n",
              "  <thead>\n",
              "    <tr style=\"text-align: right;\">\n",
              "      <th></th>\n",
              "      <th>match_id</th>\n",
              "      <th>inning</th>\n",
              "      <th>batting_team</th>\n",
              "      <th>bowling_team</th>\n",
              "      <th>over</th>\n",
              "      <th>ball</th>\n",
              "      <th>batsman</th>\n",
              "      <th>non_striker</th>\n",
              "      <th>bowler</th>\n",
              "      <th>is_super_over</th>\n",
              "      <th>wide_runs</th>\n",
              "      <th>bye_runs</th>\n",
              "      <th>legbye_runs</th>\n",
              "      <th>noball_runs</th>\n",
              "      <th>penalty_runs</th>\n",
              "      <th>batsman_runs</th>\n",
              "      <th>extra_runs</th>\n",
              "      <th>total_runs</th>\n",
              "      <th>player_dismissed</th>\n",
              "      <th>dismissal_kind</th>\n",
              "      <th>fielder</th>\n",
              "    </tr>\n",
              "  </thead>\n",
              "  <tbody>\n",
              "    <tr>\n",
              "      <th>0</th>\n",
              "      <td>1</td>\n",
              "      <td>1</td>\n",
              "      <td>Sunrisers Hyderabad</td>\n",
              "      <td>Royal Challengers Bangalore</td>\n",
              "      <td>1</td>\n",
              "      <td>1</td>\n",
              "      <td>DA Warner</td>\n",
              "      <td>S Dhawan</td>\n",
              "      <td>TS Mills</td>\n",
              "      <td>0</td>\n",
              "      <td>0</td>\n",
              "      <td>0</td>\n",
              "      <td>0</td>\n",
              "      <td>0</td>\n",
              "      <td>0</td>\n",
              "      <td>0</td>\n",
              "      <td>0</td>\n",
              "      <td>0</td>\n",
              "      <td>NaN</td>\n",
              "      <td>NaN</td>\n",
              "      <td>NaN</td>\n",
              "    </tr>\n",
              "    <tr>\n",
              "      <th>1</th>\n",
              "      <td>1</td>\n",
              "      <td>1</td>\n",
              "      <td>Sunrisers Hyderabad</td>\n",
              "      <td>Royal Challengers Bangalore</td>\n",
              "      <td>1</td>\n",
              "      <td>2</td>\n",
              "      <td>DA Warner</td>\n",
              "      <td>S Dhawan</td>\n",
              "      <td>TS Mills</td>\n",
              "      <td>0</td>\n",
              "      <td>0</td>\n",
              "      <td>0</td>\n",
              "      <td>0</td>\n",
              "      <td>0</td>\n",
              "      <td>0</td>\n",
              "      <td>0</td>\n",
              "      <td>0</td>\n",
              "      <td>0</td>\n",
              "      <td>NaN</td>\n",
              "      <td>NaN</td>\n",
              "      <td>NaN</td>\n",
              "    </tr>\n",
              "    <tr>\n",
              "      <th>2</th>\n",
              "      <td>1</td>\n",
              "      <td>1</td>\n",
              "      <td>Sunrisers Hyderabad</td>\n",
              "      <td>Royal Challengers Bangalore</td>\n",
              "      <td>1</td>\n",
              "      <td>3</td>\n",
              "      <td>DA Warner</td>\n",
              "      <td>S Dhawan</td>\n",
              "      <td>TS Mills</td>\n",
              "      <td>0</td>\n",
              "      <td>0</td>\n",
              "      <td>0</td>\n",
              "      <td>0</td>\n",
              "      <td>0</td>\n",
              "      <td>0</td>\n",
              "      <td>4</td>\n",
              "      <td>0</td>\n",
              "      <td>4</td>\n",
              "      <td>NaN</td>\n",
              "      <td>NaN</td>\n",
              "      <td>NaN</td>\n",
              "    </tr>\n",
              "    <tr>\n",
              "      <th>3</th>\n",
              "      <td>1</td>\n",
              "      <td>1</td>\n",
              "      <td>Sunrisers Hyderabad</td>\n",
              "      <td>Royal Challengers Bangalore</td>\n",
              "      <td>1</td>\n",
              "      <td>4</td>\n",
              "      <td>DA Warner</td>\n",
              "      <td>S Dhawan</td>\n",
              "      <td>TS Mills</td>\n",
              "      <td>0</td>\n",
              "      <td>0</td>\n",
              "      <td>0</td>\n",
              "      <td>0</td>\n",
              "      <td>0</td>\n",
              "      <td>0</td>\n",
              "      <td>0</td>\n",
              "      <td>0</td>\n",
              "      <td>0</td>\n",
              "      <td>NaN</td>\n",
              "      <td>NaN</td>\n",
              "      <td>NaN</td>\n",
              "    </tr>\n",
              "    <tr>\n",
              "      <th>4</th>\n",
              "      <td>1</td>\n",
              "      <td>1</td>\n",
              "      <td>Sunrisers Hyderabad</td>\n",
              "      <td>Royal Challengers Bangalore</td>\n",
              "      <td>1</td>\n",
              "      <td>5</td>\n",
              "      <td>DA Warner</td>\n",
              "      <td>S Dhawan</td>\n",
              "      <td>TS Mills</td>\n",
              "      <td>0</td>\n",
              "      <td>2</td>\n",
              "      <td>0</td>\n",
              "      <td>0</td>\n",
              "      <td>0</td>\n",
              "      <td>0</td>\n",
              "      <td>0</td>\n",
              "      <td>2</td>\n",
              "      <td>2</td>\n",
              "      <td>NaN</td>\n",
              "      <td>NaN</td>\n",
              "      <td>NaN</td>\n",
              "    </tr>\n",
              "  </tbody>\n",
              "</table>\n",
              "</div>"
            ],
            "text/plain": [
              "   match_id  inning  ... dismissal_kind fielder\n",
              "0         1       1  ...            NaN     NaN\n",
              "1         1       1  ...            NaN     NaN\n",
              "2         1       1  ...            NaN     NaN\n",
              "3         1       1  ...            NaN     NaN\n",
              "4         1       1  ...            NaN     NaN\n",
              "\n",
              "[5 rows x 21 columns]"
            ]
          },
          "metadata": {
            "tags": []
          },
          "execution_count": 3
        }
      ]
    },
    {
      "cell_type": "code",
      "metadata": {
        "id": "48Ci8D4Xt_UL",
        "outputId": "db806da6-7426-4690-c37c-b26fc4fbfdf1",
        "colab": {
          "base_uri": "https://localhost:8080/",
          "height": 462
        }
      },
      "source": [
        "print(\"Matches:\",match.shape)\n",
        "match.head()"
      ],
      "execution_count": 4,
      "outputs": [
        {
          "output_type": "stream",
          "text": [
            "Matches: (756, 18)\n"
          ],
          "name": "stdout"
        },
        {
          "output_type": "execute_result",
          "data": {
            "text/html": [
              "<div>\n",
              "<style scoped>\n",
              "    .dataframe tbody tr th:only-of-type {\n",
              "        vertical-align: middle;\n",
              "    }\n",
              "\n",
              "    .dataframe tbody tr th {\n",
              "        vertical-align: top;\n",
              "    }\n",
              "\n",
              "    .dataframe thead th {\n",
              "        text-align: right;\n",
              "    }\n",
              "</style>\n",
              "<table border=\"1\" class=\"dataframe\">\n",
              "  <thead>\n",
              "    <tr style=\"text-align: right;\">\n",
              "      <th></th>\n",
              "      <th>id</th>\n",
              "      <th>season</th>\n",
              "      <th>city</th>\n",
              "      <th>date</th>\n",
              "      <th>team1</th>\n",
              "      <th>team2</th>\n",
              "      <th>toss_winner</th>\n",
              "      <th>toss_decision</th>\n",
              "      <th>result</th>\n",
              "      <th>dl_applied</th>\n",
              "      <th>winner</th>\n",
              "      <th>win_by_runs</th>\n",
              "      <th>win_by_wickets</th>\n",
              "      <th>player_of_match</th>\n",
              "      <th>venue</th>\n",
              "      <th>umpire1</th>\n",
              "      <th>umpire2</th>\n",
              "      <th>umpire3</th>\n",
              "    </tr>\n",
              "  </thead>\n",
              "  <tbody>\n",
              "    <tr>\n",
              "      <th>0</th>\n",
              "      <td>1</td>\n",
              "      <td>2017</td>\n",
              "      <td>Hyderabad</td>\n",
              "      <td>2017-04-05</td>\n",
              "      <td>Sunrisers Hyderabad</td>\n",
              "      <td>Royal Challengers Bangalore</td>\n",
              "      <td>Royal Challengers Bangalore</td>\n",
              "      <td>field</td>\n",
              "      <td>normal</td>\n",
              "      <td>0</td>\n",
              "      <td>Sunrisers Hyderabad</td>\n",
              "      <td>35</td>\n",
              "      <td>0</td>\n",
              "      <td>Yuvraj Singh</td>\n",
              "      <td>Rajiv Gandhi International Stadium, Uppal</td>\n",
              "      <td>AY Dandekar</td>\n",
              "      <td>NJ Llong</td>\n",
              "      <td>NaN</td>\n",
              "    </tr>\n",
              "    <tr>\n",
              "      <th>1</th>\n",
              "      <td>2</td>\n",
              "      <td>2017</td>\n",
              "      <td>Pune</td>\n",
              "      <td>2017-04-06</td>\n",
              "      <td>Mumbai Indians</td>\n",
              "      <td>Rising Pune Supergiant</td>\n",
              "      <td>Rising Pune Supergiant</td>\n",
              "      <td>field</td>\n",
              "      <td>normal</td>\n",
              "      <td>0</td>\n",
              "      <td>Rising Pune Supergiant</td>\n",
              "      <td>0</td>\n",
              "      <td>7</td>\n",
              "      <td>SPD Smith</td>\n",
              "      <td>Maharashtra Cricket Association Stadium</td>\n",
              "      <td>A Nand Kishore</td>\n",
              "      <td>S Ravi</td>\n",
              "      <td>NaN</td>\n",
              "    </tr>\n",
              "    <tr>\n",
              "      <th>2</th>\n",
              "      <td>3</td>\n",
              "      <td>2017</td>\n",
              "      <td>Rajkot</td>\n",
              "      <td>2017-04-07</td>\n",
              "      <td>Gujarat Lions</td>\n",
              "      <td>Kolkata Knight Riders</td>\n",
              "      <td>Kolkata Knight Riders</td>\n",
              "      <td>field</td>\n",
              "      <td>normal</td>\n",
              "      <td>0</td>\n",
              "      <td>Kolkata Knight Riders</td>\n",
              "      <td>0</td>\n",
              "      <td>10</td>\n",
              "      <td>CA Lynn</td>\n",
              "      <td>Saurashtra Cricket Association Stadium</td>\n",
              "      <td>Nitin Menon</td>\n",
              "      <td>CK Nandan</td>\n",
              "      <td>NaN</td>\n",
              "    </tr>\n",
              "    <tr>\n",
              "      <th>3</th>\n",
              "      <td>4</td>\n",
              "      <td>2017</td>\n",
              "      <td>Indore</td>\n",
              "      <td>2017-04-08</td>\n",
              "      <td>Rising Pune Supergiant</td>\n",
              "      <td>Kings XI Punjab</td>\n",
              "      <td>Kings XI Punjab</td>\n",
              "      <td>field</td>\n",
              "      <td>normal</td>\n",
              "      <td>0</td>\n",
              "      <td>Kings XI Punjab</td>\n",
              "      <td>0</td>\n",
              "      <td>6</td>\n",
              "      <td>GJ Maxwell</td>\n",
              "      <td>Holkar Cricket Stadium</td>\n",
              "      <td>AK Chaudhary</td>\n",
              "      <td>C Shamshuddin</td>\n",
              "      <td>NaN</td>\n",
              "    </tr>\n",
              "    <tr>\n",
              "      <th>4</th>\n",
              "      <td>5</td>\n",
              "      <td>2017</td>\n",
              "      <td>Bangalore</td>\n",
              "      <td>2017-04-08</td>\n",
              "      <td>Royal Challengers Bangalore</td>\n",
              "      <td>Delhi Daredevils</td>\n",
              "      <td>Royal Challengers Bangalore</td>\n",
              "      <td>bat</td>\n",
              "      <td>normal</td>\n",
              "      <td>0</td>\n",
              "      <td>Royal Challengers Bangalore</td>\n",
              "      <td>15</td>\n",
              "      <td>0</td>\n",
              "      <td>KM Jadhav</td>\n",
              "      <td>M Chinnaswamy Stadium</td>\n",
              "      <td>NaN</td>\n",
              "      <td>NaN</td>\n",
              "      <td>NaN</td>\n",
              "    </tr>\n",
              "  </tbody>\n",
              "</table>\n",
              "</div>"
            ],
            "text/plain": [
              "   id  season       city  ...         umpire1        umpire2 umpire3\n",
              "0   1    2017  Hyderabad  ...     AY Dandekar       NJ Llong     NaN\n",
              "1   2    2017       Pune  ...  A Nand Kishore         S Ravi     NaN\n",
              "2   3    2017     Rajkot  ...     Nitin Menon      CK Nandan     NaN\n",
              "3   4    2017     Indore  ...    AK Chaudhary  C Shamshuddin     NaN\n",
              "4   5    2017  Bangalore  ...             NaN            NaN     NaN\n",
              "\n",
              "[5 rows x 18 columns]"
            ]
          },
          "metadata": {
            "tags": []
          },
          "execution_count": 4
        }
      ]
    },
    {
      "cell_type": "code",
      "metadata": {
        "id": "drTfwNmtuAbr",
        "outputId": "59e17f6f-bedf-4e09-d7da-1dd29d4fd793",
        "colab": {
          "base_uri": "https://localhost:8080/",
          "height": 391
        }
      },
      "source": [
        "deli.dtypes"
      ],
      "execution_count": 5,
      "outputs": [
        {
          "output_type": "execute_result",
          "data": {
            "text/plain": [
              "match_id             int64\n",
              "inning               int64\n",
              "batting_team        object\n",
              "bowling_team        object\n",
              "over                 int64\n",
              "ball                 int64\n",
              "batsman             object\n",
              "non_striker         object\n",
              "bowler              object\n",
              "is_super_over        int64\n",
              "wide_runs            int64\n",
              "bye_runs             int64\n",
              "legbye_runs          int64\n",
              "noball_runs          int64\n",
              "penalty_runs         int64\n",
              "batsman_runs         int64\n",
              "extra_runs           int64\n",
              "total_runs           int64\n",
              "player_dismissed    object\n",
              "dismissal_kind      object\n",
              "fielder             object\n",
              "dtype: object"
            ]
          },
          "metadata": {
            "tags": []
          },
          "execution_count": 5
        }
      ]
    },
    {
      "cell_type": "code",
      "metadata": {
        "id": "CkZ_oBr0uCEr",
        "outputId": "6be3ad3e-c8f1-4f01-bd33-1b24cb2637e1",
        "colab": {
          "base_uri": "https://localhost:8080/",
          "height": 340
        }
      },
      "source": [
        "match.dtypes"
      ],
      "execution_count": 6,
      "outputs": [
        {
          "output_type": "execute_result",
          "data": {
            "text/plain": [
              "id                  int64\n",
              "season              int64\n",
              "city               object\n",
              "date               object\n",
              "team1              object\n",
              "team2              object\n",
              "toss_winner        object\n",
              "toss_decision      object\n",
              "result             object\n",
              "dl_applied          int64\n",
              "winner             object\n",
              "win_by_runs         int64\n",
              "win_by_wickets      int64\n",
              "player_of_match    object\n",
              "venue              object\n",
              "umpire1            object\n",
              "umpire2            object\n",
              "umpire3            object\n",
              "dtype: object"
            ]
          },
          "metadata": {
            "tags": []
          },
          "execution_count": 6
        }
      ]
    },
    {
      "cell_type": "markdown",
      "metadata": {
        "id": "oCo0NOYgVsix"
      },
      "source": [
        "##### Seeing the unique values in some of the columns"
      ]
    },
    {
      "cell_type": "code",
      "metadata": {
        "id": "wUEUxqpYzX-d",
        "outputId": "7b190127-6354-4fae-a2e2-25877c7e2803",
        "colab": {
          "base_uri": "https://localhost:8080/",
          "height": 1000
        }
      },
      "source": [
        "for (columnName, columnData) in deli[['inning','batting_team','over','ball','is_super_over','wide_runs','bye_runs','legbye_runs','noball_runs','penalty_runs','batsman_runs','extra_runs','total_runs','dismissal_kind']].iteritems(): \n",
        "    print('Deliveries - Colunm Name:', columnName) \n",
        "    print('Unique Values:', pd.Series(columnData.values).unique(),'\\n') \n",
        "print(\"\\n---------------------------------\\n\")\n",
        "for (columnName, columnData) in match[['season','city','team1','toss_decision','result','dl_applied','venue']].iteritems(): \n",
        "    print('Matches - Colunm Name:', columnName) \n",
        "    print('Unique Values:', pd.Series(columnData.values).unique(),'\\n') "
      ],
      "execution_count": 7,
      "outputs": [
        {
          "output_type": "stream",
          "text": [
            "Deliveries - Colunm Name: inning\n",
            "Unique Values: [1 2 3 4 5] \n",
            "\n",
            "Deliveries - Colunm Name: batting_team\n",
            "Unique Values: ['Sunrisers Hyderabad' 'Royal Challengers Bangalore' 'Mumbai Indians'\n",
            " 'Rising Pune Supergiant' 'Gujarat Lions' 'Kolkata Knight Riders'\n",
            " 'Kings XI Punjab' 'Delhi Daredevils' 'Chennai Super Kings'\n",
            " 'Rajasthan Royals' 'Deccan Chargers' 'Kochi Tuskers Kerala'\n",
            " 'Pune Warriors' 'Rising Pune Supergiants' 'Delhi Capitals'] \n",
            "\n",
            "Deliveries - Colunm Name: over\n",
            "Unique Values: [ 1  2  3  4  5  6  7  8  9 10 11 12 13 14 15 16 17 18 19 20] \n",
            "\n",
            "Deliveries - Colunm Name: ball\n",
            "Unique Values: [1 2 3 4 5 6 7 8 9] \n",
            "\n",
            "Deliveries - Colunm Name: is_super_over\n",
            "Unique Values: [0 1] \n",
            "\n",
            "Deliveries - Colunm Name: wide_runs\n",
            "Unique Values: [0 2 1 5 3 4] \n",
            "\n",
            "Deliveries - Colunm Name: bye_runs\n",
            "Unique Values: [0 1 4 2 3] \n",
            "\n",
            "Deliveries - Colunm Name: legbye_runs\n",
            "Unique Values: [0 1 2 5 3 4] \n",
            "\n",
            "Deliveries - Colunm Name: noball_runs\n",
            "Unique Values: [0 1 2 5 3] \n",
            "\n",
            "Deliveries - Colunm Name: penalty_runs\n",
            "Unique Values: [0 5] \n",
            "\n",
            "Deliveries - Colunm Name: batsman_runs\n",
            "Unique Values: [0 4 1 6 3 2 5 7] \n",
            "\n",
            "Deliveries - Colunm Name: extra_runs\n",
            "Unique Values: [0 2 1 4 5 3 7] \n",
            "\n",
            "Deliveries - Colunm Name: total_runs\n",
            "Unique Values: [ 0  4  2  1  6  3  5  7 10  8] \n",
            "\n",
            "Deliveries - Colunm Name: dismissal_kind\n",
            "Unique Values: [nan 'caught' 'bowled' 'run out' 'lbw' 'caught and bowled' 'stumped'\n",
            " 'retired hurt' 'hit wicket' 'obstructing the field'] \n",
            "\n",
            "\n",
            "---------------------------------\n",
            "\n",
            "Matches - Colunm Name: season\n",
            "Unique Values: [2017 2008 2009 2010 2011 2012 2013 2014 2015 2016 2018 2019] \n",
            "\n",
            "Matches - Colunm Name: city\n",
            "Unique Values: ['Hyderabad' 'Pune' 'Rajkot' 'Indore' 'Bangalore' 'Mumbai' 'Kolkata'\n",
            " 'Delhi' 'Chandigarh' 'Kanpur' 'Jaipur' 'Chennai' 'Cape Town'\n",
            " 'Port Elizabeth' 'Durban' 'Centurion' 'East London' 'Johannesburg'\n",
            " 'Kimberley' 'Bloemfontein' 'Ahmedabad' 'Cuttack' 'Nagpur' 'Dharamsala'\n",
            " 'Kochi' 'Visakhapatnam' 'Raipur' 'Ranchi' 'Abu Dhabi' 'Sharjah' nan\n",
            " 'Mohali' 'Bengaluru'] \n",
            "\n",
            "Matches - Colunm Name: team1\n",
            "Unique Values: ['Sunrisers Hyderabad' 'Mumbai Indians' 'Gujarat Lions'\n",
            " 'Rising Pune Supergiant' 'Royal Challengers Bangalore'\n",
            " 'Kolkata Knight Riders' 'Delhi Daredevils' 'Kings XI Punjab'\n",
            " 'Chennai Super Kings' 'Rajasthan Royals' 'Deccan Chargers'\n",
            " 'Kochi Tuskers Kerala' 'Pune Warriors' 'Rising Pune Supergiants'\n",
            " 'Delhi Capitals'] \n",
            "\n",
            "Matches - Colunm Name: toss_decision\n",
            "Unique Values: ['field' 'bat'] \n",
            "\n",
            "Matches - Colunm Name: result\n",
            "Unique Values: ['normal' 'tie' 'no result'] \n",
            "\n",
            "Matches - Colunm Name: dl_applied\n",
            "Unique Values: [0 1] \n",
            "\n",
            "Matches - Colunm Name: venue\n",
            "Unique Values: ['Rajiv Gandhi International Stadium, Uppal'\n",
            " 'Maharashtra Cricket Association Stadium'\n",
            " 'Saurashtra Cricket Association Stadium' 'Holkar Cricket Stadium'\n",
            " 'M Chinnaswamy Stadium' 'Wankhede Stadium' 'Eden Gardens'\n",
            " 'Feroz Shah Kotla' 'Punjab Cricket Association IS Bindra Stadium, Mohali'\n",
            " 'Green Park' 'Punjab Cricket Association Stadium, Mohali'\n",
            " 'Sawai Mansingh Stadium' 'MA Chidambaram Stadium, Chepauk'\n",
            " 'Dr DY Patil Sports Academy' 'Newlands' \"St George's Park\" 'Kingsmead'\n",
            " 'SuperSport Park' 'Buffalo Park' 'New Wanderers Stadium'\n",
            " 'De Beers Diamond Oval' 'OUTsurance Oval' 'Brabourne Stadium'\n",
            " 'Sardar Patel Stadium, Motera' 'Barabati Stadium'\n",
            " 'Vidarbha Cricket Association Stadium, Jamtha'\n",
            " 'Himachal Pradesh Cricket Association Stadium' 'Nehru Stadium'\n",
            " 'Dr. Y.S. Rajasekhara Reddy ACA-VDCA Cricket Stadium'\n",
            " 'Subrata Roy Sahara Stadium'\n",
            " 'Shaheed Veer Narayan Singh International Stadium'\n",
            " 'JSCA International Stadium Complex' 'Sheikh Zayed Stadium'\n",
            " 'Sharjah Cricket Stadium' 'Dubai International Cricket Stadium'\n",
            " 'M. A. Chidambaram Stadium' 'Feroz Shah Kotla Ground'\n",
            " 'M. Chinnaswamy Stadium' 'Rajiv Gandhi Intl. Cricket Stadium'\n",
            " 'IS Bindra Stadium' 'ACA-VDCA Stadium'] \n",
            "\n"
          ],
          "name": "stdout"
        }
      ]
    },
    {
      "cell_type": "markdown",
      "metadata": {
        "id": "LlEVbhRKV-hK"
      },
      "source": [
        "##### Shortening and Changing similiar names for easier understanding"
      ]
    },
    {
      "cell_type": "code",
      "metadata": {
        "id": "hbUi1_cPuF7T",
        "outputId": "2c2dd6b7-8358-4aee-89dc-38f3f1bc84c5",
        "colab": {
          "base_uri": "https://localhost:8080/",
          "height": 68
        }
      },
      "source": [
        "old = ['Sunrisers Hyderabad', 'Royal Challengers Bangalore',\n",
        "       'Mumbai Indians', 'Rising Pune Supergiant', 'Gujarat Lions',\n",
        "       'Kolkata Knight Riders', 'Kings XI Punjab', 'Delhi Daredevils',\n",
        "       'Chennai Super Kings', 'Rajasthan Royals', 'Deccan Chargers',\n",
        "       'Kochi Tuskers Kerala', 'Pune Warriors', 'Rising Pune Supergiants',\n",
        "       'Delhi Capitals']\n",
        "new = ['SRH', 'RCB', 'MI', 'RPS', 'GUJ', 'KKR', 'KXIP', 'DC', 'CSK', 'RR', 'SRH', 'KOCHI', 'PUNE', 'RPS', 'DC']\n",
        "deli = deli.replace(old, new )\n",
        "match = match.replace(old, new)\n",
        "\n",
        "print(deli['batting_team'].unique(), \"Size:\",deli['batting_team'].unique().shape[0],'\\n')\n",
        "print(match['team1'].unique(), \"Size:\",match['team1'].unique().shape[0])"
      ],
      "execution_count": 8,
      "outputs": [
        {
          "output_type": "stream",
          "text": [
            "['SRH' 'RCB' 'MI' 'RPS' 'GUJ' 'KKR' 'KXIP' 'DC' 'CSK' 'RR' 'KOCHI' 'PUNE'] Size: 12 \n",
            "\n",
            "['SRH' 'MI' 'GUJ' 'RPS' 'RCB' 'KKR' 'DC' 'KXIP' 'CSK' 'RR' 'KOCHI' 'PUNE'] Size: 12\n"
          ],
          "name": "stdout"
        }
      ]
    },
    {
      "cell_type": "code",
      "metadata": {
        "id": "0Tq6W4SR5Yam",
        "outputId": "53e71263-c852-44c2-e931-9926513acaf9",
        "colab": {
          "base_uri": "https://localhost:8080/",
          "height": 306
        }
      },
      "source": [
        "new_stad = ['Rajiv Gandhi International Stadium',\n",
        " 'Maharashtra Cricket Association Stadium',\n",
        " 'Saurashtra Cricket Association Stadium', 'Holkar Cricket Stadium',\n",
        " 'M. Chinnaswamy Stadium', 'Wankhede Stadium', 'Eden Gardens',\n",
        " 'Feroz Shah Kotla', 'Punjab Cricket Association IS Bindra Stadium',\n",
        " 'Green Park', 'Punjab Cricket Association IS Bindra Stadium',\n",
        " 'Sawai Mansingh Stadium', 'M. A. Chidambaram Stadium',\n",
        " 'Dr DY Patil Sports Academy', 'Newlands', \"St George's Park\", 'Kingsmead',\n",
        " 'SuperSport Park', 'Buffalo Park', 'New Wanderers Stadium',\n",
        " 'De Beers Diamond Oval', 'OUTsurance Oval', 'Brabourne Stadium',\n",
        " 'Sardar Patel Stadium', 'Barabati Stadium',\n",
        " 'Vidarbha Cricket Association Stadium',\n",
        " 'Himachal Pradesh Cricket Association Stadium', 'Nehru Stadium',\n",
        " 'ACA-VDCA Cricket Stadium',\n",
        " 'Subrata Roy Sahara Stadium',\n",
        " 'Shaheed Veer Narayan Singh International Stadium',\n",
        " 'JSCA International Stadium Complex', 'Sheikh Zayed Stadium',\n",
        " 'Sharjah Cricket Stadium', 'Dubai International Cricket Stadium',\n",
        " 'M. A. Chidambaram Stadium', 'Feroz Shah Kotla',\n",
        " 'M. Chinnaswamy Stadium', 'Rajiv Gandhi International Stadium',\n",
        " 'Punjab Cricket Association IS Bindra Stadium', 'ACA-VDCA Stadium'] \n",
        " \n",
        "old_stad = ['Rajiv Gandhi International Stadium, Uppal',\n",
        " 'Maharashtra Cricket Association Stadium',\n",
        " 'Saurashtra Cricket Association Stadium', 'Holkar Cricket Stadium',\n",
        " 'M Chinnaswamy Stadium', 'Wankhede Stadium', 'Eden Gardens',\n",
        " 'Feroz Shah Kotla', 'Punjab Cricket Association IS Bindra Stadium, Mohali',\n",
        " 'Green Park', 'Punjab Cricket Association Stadium, Mohali',\n",
        " 'Sawai Mansingh Stadium', 'MA Chidambaram Stadium, Chepauk',\n",
        " 'Dr DY Patil Sports Academy', 'Newlands', \"St George's Park\", 'Kingsmead',\n",
        " 'SuperSport Park', 'Buffalo Park', 'New Wanderers Stadium',\n",
        " 'De Beers Diamond Oval', 'OUTsurance Oval', 'Brabourne Stadium',\n",
        " 'Sardar Patel Stadium, Motera', 'Barabati Stadium',\n",
        " 'Vidarbha Cricket Association Stadium, Jamtha',\n",
        " 'Himachal Pradesh Cricket Association Stadium', 'Nehru Stadium',\n",
        " 'Dr. Y.S. Rajasekhara Reddy ACA-VDCA Cricket Stadium',\n",
        " 'Subrata Roy Sahara Stadium',\n",
        " 'Shaheed Veer Narayan Singh International Stadium',\n",
        " 'JSCA International Stadium Complex', 'Sheikh Zayed Stadium',\n",
        " 'Sharjah Cricket Stadium', 'Dubai International Cricket Stadium',\n",
        " 'M. A. Chidambaram Stadium', 'Feroz Shah Kotla Ground',\n",
        " 'M. Chinnaswamy Stadium', 'Rajiv Gandhi Intl. Cricket Stadium',\n",
        " 'IS Bindra Stadium', 'ACA-VDCA Stadium'] \n",
        "\n",
        "match = match.replace(old_stad, new_stad) \n",
        "match['venue'].unique()"
      ],
      "execution_count": 9,
      "outputs": [
        {
          "output_type": "execute_result",
          "data": {
            "text/plain": [
              "array(['Rajiv Gandhi International Stadium',\n",
              "       'Maharashtra Cricket Association Stadium',\n",
              "       'Saurashtra Cricket Association Stadium', 'Holkar Cricket Stadium',\n",
              "       'M. Chinnaswamy Stadium', 'Wankhede Stadium', 'Eden Gardens',\n",
              "       'Feroz Shah Kotla', 'Punjab Cricket Association IS Bindra Stadium',\n",
              "       'Green Park', 'Sawai Mansingh Stadium',\n",
              "       'M. A. Chidambaram Stadium', 'Dr DY Patil Sports Academy',\n",
              "       'Newlands', \"St George's Park\", 'Kingsmead', 'SuperSport Park',\n",
              "       'Buffalo Park', 'New Wanderers Stadium', 'De Beers Diamond Oval',\n",
              "       'OUTsurance Oval', 'Brabourne Stadium', 'Sardar Patel Stadium',\n",
              "       'Barabati Stadium', 'Vidarbha Cricket Association Stadium',\n",
              "       'Himachal Pradesh Cricket Association Stadium', 'Nehru Stadium',\n",
              "       'ACA-VDCA Cricket Stadium', 'Subrata Roy Sahara Stadium',\n",
              "       'Shaheed Veer Narayan Singh International Stadium',\n",
              "       'JSCA International Stadium Complex', 'Sheikh Zayed Stadium',\n",
              "       'Sharjah Cricket Stadium', 'Dubai International Cricket Stadium',\n",
              "       'ACA-VDCA Stadium'], dtype=object)"
            ]
          },
          "metadata": {
            "tags": []
          },
          "execution_count": 9
        }
      ]
    },
    {
      "cell_type": "code",
      "metadata": {
        "id": "K2Z24hEdex8p"
      },
      "source": [
        "old_diss = [None, 'caught', 'bowled', 'run out', 'lbw', 'caught and bowled', 'stumped',\n",
        " 'retired hurt', 'hit wicket', 'obstructing the field']\n",
        "new_diss = [\"0\",\"1\",\"1\",\"0\",\"1\",\"1\",\"1\",\"0\",\"1\",\"0\"]\n",
        "deli['dismissal_kind'] = deli['dismissal_kind'].replace(old_diss, new_diss)\n",
        "deli['dismissal_kind'] = deli['dismissal_kind'].astype(int)"
      ],
      "execution_count": 10,
      "outputs": []
    },
    {
      "cell_type": "code",
      "metadata": {
        "id": "pUMnioi9e10q"
      },
      "source": [
        "year = match['season'].sort_values().unique()"
      ],
      "execution_count": 11,
      "outputs": []
    },
    {
      "cell_type": "markdown",
      "metadata": {
        "id": "wVonTtjKWNx1"
      },
      "source": [
        "##### Removing data of matches that were not played"
      ]
    },
    {
      "cell_type": "code",
      "metadata": {
        "id": "NSt8WGcJv-5b",
        "outputId": "b6db2f0d-eeca-43f7-e59a-c1961bc8b180",
        "colab": {
          "base_uri": "https://localhost:8080/",
          "height": 312
        }
      },
      "source": [
        "match.iloc[np.where(match['winner'].isnull() == True)]"
      ],
      "execution_count": 12,
      "outputs": [
        {
          "output_type": "execute_result",
          "data": {
            "text/html": [
              "<div>\n",
              "<style scoped>\n",
              "    .dataframe tbody tr th:only-of-type {\n",
              "        vertical-align: middle;\n",
              "    }\n",
              "\n",
              "    .dataframe tbody tr th {\n",
              "        vertical-align: top;\n",
              "    }\n",
              "\n",
              "    .dataframe thead th {\n",
              "        text-align: right;\n",
              "    }\n",
              "</style>\n",
              "<table border=\"1\" class=\"dataframe\">\n",
              "  <thead>\n",
              "    <tr style=\"text-align: right;\">\n",
              "      <th></th>\n",
              "      <th>id</th>\n",
              "      <th>season</th>\n",
              "      <th>city</th>\n",
              "      <th>date</th>\n",
              "      <th>team1</th>\n",
              "      <th>team2</th>\n",
              "      <th>toss_winner</th>\n",
              "      <th>toss_decision</th>\n",
              "      <th>result</th>\n",
              "      <th>dl_applied</th>\n",
              "      <th>winner</th>\n",
              "      <th>win_by_runs</th>\n",
              "      <th>win_by_wickets</th>\n",
              "      <th>player_of_match</th>\n",
              "      <th>venue</th>\n",
              "      <th>umpire1</th>\n",
              "      <th>umpire2</th>\n",
              "      <th>umpire3</th>\n",
              "    </tr>\n",
              "  </thead>\n",
              "  <tbody>\n",
              "    <tr>\n",
              "      <th>300</th>\n",
              "      <td>301</td>\n",
              "      <td>2011</td>\n",
              "      <td>Delhi</td>\n",
              "      <td>2011-05-21</td>\n",
              "      <td>DC</td>\n",
              "      <td>PUNE</td>\n",
              "      <td>DC</td>\n",
              "      <td>bat</td>\n",
              "      <td>no result</td>\n",
              "      <td>0</td>\n",
              "      <td>NaN</td>\n",
              "      <td>0</td>\n",
              "      <td>0</td>\n",
              "      <td>NaN</td>\n",
              "      <td>Feroz Shah Kotla</td>\n",
              "      <td>SS Hazare</td>\n",
              "      <td>RJ Tucker</td>\n",
              "      <td>NaN</td>\n",
              "    </tr>\n",
              "    <tr>\n",
              "      <th>545</th>\n",
              "      <td>546</td>\n",
              "      <td>2015</td>\n",
              "      <td>Bangalore</td>\n",
              "      <td>2015-04-29</td>\n",
              "      <td>RCB</td>\n",
              "      <td>RR</td>\n",
              "      <td>RR</td>\n",
              "      <td>field</td>\n",
              "      <td>no result</td>\n",
              "      <td>0</td>\n",
              "      <td>NaN</td>\n",
              "      <td>0</td>\n",
              "      <td>0</td>\n",
              "      <td>NaN</td>\n",
              "      <td>M. Chinnaswamy Stadium</td>\n",
              "      <td>JD Cloete</td>\n",
              "      <td>PG Pathak</td>\n",
              "      <td>NaN</td>\n",
              "    </tr>\n",
              "    <tr>\n",
              "      <th>570</th>\n",
              "      <td>571</td>\n",
              "      <td>2015</td>\n",
              "      <td>Bangalore</td>\n",
              "      <td>2015-05-17</td>\n",
              "      <td>DC</td>\n",
              "      <td>RCB</td>\n",
              "      <td>RCB</td>\n",
              "      <td>field</td>\n",
              "      <td>no result</td>\n",
              "      <td>0</td>\n",
              "      <td>NaN</td>\n",
              "      <td>0</td>\n",
              "      <td>0</td>\n",
              "      <td>NaN</td>\n",
              "      <td>M. Chinnaswamy Stadium</td>\n",
              "      <td>HDPK Dharmasena</td>\n",
              "      <td>K Srinivasan</td>\n",
              "      <td>NaN</td>\n",
              "    </tr>\n",
              "    <tr>\n",
              "      <th>744</th>\n",
              "      <td>11340</td>\n",
              "      <td>2019</td>\n",
              "      <td>Bengaluru</td>\n",
              "      <td>30/04/19</td>\n",
              "      <td>RCB</td>\n",
              "      <td>RR</td>\n",
              "      <td>RR</td>\n",
              "      <td>field</td>\n",
              "      <td>no result</td>\n",
              "      <td>0</td>\n",
              "      <td>NaN</td>\n",
              "      <td>0</td>\n",
              "      <td>0</td>\n",
              "      <td>NaN</td>\n",
              "      <td>M. Chinnaswamy Stadium</td>\n",
              "      <td>Nigel Llong</td>\n",
              "      <td>Ulhas Gandhe</td>\n",
              "      <td>Anil Chaudhary</td>\n",
              "    </tr>\n",
              "  </tbody>\n",
              "</table>\n",
              "</div>"
            ],
            "text/plain": [
              "        id  season       city  ...          umpire1       umpire2         umpire3\n",
              "300    301    2011      Delhi  ...        SS Hazare     RJ Tucker             NaN\n",
              "545    546    2015  Bangalore  ...        JD Cloete     PG Pathak             NaN\n",
              "570    571    2015  Bangalore  ...  HDPK Dharmasena  K Srinivasan             NaN\n",
              "744  11340    2019  Bengaluru  ...      Nigel Llong  Ulhas Gandhe  Anil Chaudhary\n",
              "\n",
              "[4 rows x 18 columns]"
            ]
          },
          "metadata": {
            "tags": []
          },
          "execution_count": 12
        }
      ]
    },
    {
      "cell_type": "code",
      "metadata": {
        "id": "d84-rG5Q7bgw",
        "outputId": "21f7350d-7b0e-4eb7-8fed-b2b3620c212b",
        "colab": {
          "base_uri": "https://localhost:8080/",
          "height": 329
        }
      },
      "source": [
        "print(match.shape)\n",
        "match.iloc[np.where(match['result'] == 'no result')]"
      ],
      "execution_count": 13,
      "outputs": [
        {
          "output_type": "stream",
          "text": [
            "(756, 18)\n"
          ],
          "name": "stdout"
        },
        {
          "output_type": "execute_result",
          "data": {
            "text/html": [
              "<div>\n",
              "<style scoped>\n",
              "    .dataframe tbody tr th:only-of-type {\n",
              "        vertical-align: middle;\n",
              "    }\n",
              "\n",
              "    .dataframe tbody tr th {\n",
              "        vertical-align: top;\n",
              "    }\n",
              "\n",
              "    .dataframe thead th {\n",
              "        text-align: right;\n",
              "    }\n",
              "</style>\n",
              "<table border=\"1\" class=\"dataframe\">\n",
              "  <thead>\n",
              "    <tr style=\"text-align: right;\">\n",
              "      <th></th>\n",
              "      <th>id</th>\n",
              "      <th>season</th>\n",
              "      <th>city</th>\n",
              "      <th>date</th>\n",
              "      <th>team1</th>\n",
              "      <th>team2</th>\n",
              "      <th>toss_winner</th>\n",
              "      <th>toss_decision</th>\n",
              "      <th>result</th>\n",
              "      <th>dl_applied</th>\n",
              "      <th>winner</th>\n",
              "      <th>win_by_runs</th>\n",
              "      <th>win_by_wickets</th>\n",
              "      <th>player_of_match</th>\n",
              "      <th>venue</th>\n",
              "      <th>umpire1</th>\n",
              "      <th>umpire2</th>\n",
              "      <th>umpire3</th>\n",
              "    </tr>\n",
              "  </thead>\n",
              "  <tbody>\n",
              "    <tr>\n",
              "      <th>300</th>\n",
              "      <td>301</td>\n",
              "      <td>2011</td>\n",
              "      <td>Delhi</td>\n",
              "      <td>2011-05-21</td>\n",
              "      <td>DC</td>\n",
              "      <td>PUNE</td>\n",
              "      <td>DC</td>\n",
              "      <td>bat</td>\n",
              "      <td>no result</td>\n",
              "      <td>0</td>\n",
              "      <td>NaN</td>\n",
              "      <td>0</td>\n",
              "      <td>0</td>\n",
              "      <td>NaN</td>\n",
              "      <td>Feroz Shah Kotla</td>\n",
              "      <td>SS Hazare</td>\n",
              "      <td>RJ Tucker</td>\n",
              "      <td>NaN</td>\n",
              "    </tr>\n",
              "    <tr>\n",
              "      <th>545</th>\n",
              "      <td>546</td>\n",
              "      <td>2015</td>\n",
              "      <td>Bangalore</td>\n",
              "      <td>2015-04-29</td>\n",
              "      <td>RCB</td>\n",
              "      <td>RR</td>\n",
              "      <td>RR</td>\n",
              "      <td>field</td>\n",
              "      <td>no result</td>\n",
              "      <td>0</td>\n",
              "      <td>NaN</td>\n",
              "      <td>0</td>\n",
              "      <td>0</td>\n",
              "      <td>NaN</td>\n",
              "      <td>M. Chinnaswamy Stadium</td>\n",
              "      <td>JD Cloete</td>\n",
              "      <td>PG Pathak</td>\n",
              "      <td>NaN</td>\n",
              "    </tr>\n",
              "    <tr>\n",
              "      <th>570</th>\n",
              "      <td>571</td>\n",
              "      <td>2015</td>\n",
              "      <td>Bangalore</td>\n",
              "      <td>2015-05-17</td>\n",
              "      <td>DC</td>\n",
              "      <td>RCB</td>\n",
              "      <td>RCB</td>\n",
              "      <td>field</td>\n",
              "      <td>no result</td>\n",
              "      <td>0</td>\n",
              "      <td>NaN</td>\n",
              "      <td>0</td>\n",
              "      <td>0</td>\n",
              "      <td>NaN</td>\n",
              "      <td>M. Chinnaswamy Stadium</td>\n",
              "      <td>HDPK Dharmasena</td>\n",
              "      <td>K Srinivasan</td>\n",
              "      <td>NaN</td>\n",
              "    </tr>\n",
              "    <tr>\n",
              "      <th>744</th>\n",
              "      <td>11340</td>\n",
              "      <td>2019</td>\n",
              "      <td>Bengaluru</td>\n",
              "      <td>30/04/19</td>\n",
              "      <td>RCB</td>\n",
              "      <td>RR</td>\n",
              "      <td>RR</td>\n",
              "      <td>field</td>\n",
              "      <td>no result</td>\n",
              "      <td>0</td>\n",
              "      <td>NaN</td>\n",
              "      <td>0</td>\n",
              "      <td>0</td>\n",
              "      <td>NaN</td>\n",
              "      <td>M. Chinnaswamy Stadium</td>\n",
              "      <td>Nigel Llong</td>\n",
              "      <td>Ulhas Gandhe</td>\n",
              "      <td>Anil Chaudhary</td>\n",
              "    </tr>\n",
              "  </tbody>\n",
              "</table>\n",
              "</div>"
            ],
            "text/plain": [
              "        id  season       city  ...          umpire1       umpire2         umpire3\n",
              "300    301    2011      Delhi  ...        SS Hazare     RJ Tucker             NaN\n",
              "545    546    2015  Bangalore  ...        JD Cloete     PG Pathak             NaN\n",
              "570    571    2015  Bangalore  ...  HDPK Dharmasena  K Srinivasan             NaN\n",
              "744  11340    2019  Bengaluru  ...      Nigel Llong  Ulhas Gandhe  Anil Chaudhary\n",
              "\n",
              "[4 rows x 18 columns]"
            ]
          },
          "metadata": {
            "tags": []
          },
          "execution_count": 13
        }
      ]
    },
    {
      "cell_type": "code",
      "metadata": {
        "id": "9ky0maYmxNK6",
        "outputId": "83967682-6f9d-4f10-a226-00ae4d232825",
        "colab": {
          "base_uri": "https://localhost:8080/",
          "height": 34
        }
      },
      "source": [
        "match = match.drop(np.where(match['result'] == 'no result')[0])\n",
        "print(match.shape)"
      ],
      "execution_count": 14,
      "outputs": [
        {
          "output_type": "stream",
          "text": [
            "(752, 18)\n"
          ],
          "name": "stdout"
        }
      ]
    },
    {
      "cell_type": "markdown",
      "metadata": {
        "id": "huICUsCQe108"
      },
      "source": [
        "## Functions"
      ]
    },
    {
      "cell_type": "markdown",
      "metadata": {
        "id": "cqF8QJk5WVZH"
      },
      "source": [
        "##### Head to Head Score Function"
      ]
    },
    {
      "cell_type": "code",
      "metadata": {
        "id": "DX4S1Zp_91yd"
      },
      "source": [
        "def head(t1, t2):\n",
        "  s1 = (match['team1'] == t1) & (match['team2'] == t2)\n",
        "  s2 = (match['team1'] == t2) & (match['team2'] == t1)\n",
        "  head_to_head = match.iloc[np.where(s1)]\n",
        "  head_to_head = head_to_head.append(match.iloc[np.where(s2)]).sort_values(by = 'season').reset_index().drop(['id','index'], axis=1)\n",
        "  t1_win=0\n",
        "  t2_win=0\n",
        "  for i in head_to_head['winner']:\n",
        "    if i == t1:\n",
        "      t1_win+=1\n",
        "    if i == t2:\n",
        "      t2_win+=1\n",
        "  t1_arr = []\n",
        "  t2_arr = []\n",
        "  year_arr = []\n",
        "  for i in head_to_head[['season','winner']].iterrows():\n",
        "      index, year, win = i[0], i[1][0], i[1][1]\n",
        "      if year in year_arr:\n",
        "          if win == t1:\n",
        "              t1_arr[year_arr.index(year)]+=1  \n",
        "          if win == t2:\n",
        "              t2_arr[year_arr.index(year)]+=1  \n",
        "      else:\n",
        "          year_arr.append(year)\n",
        "          if win == t1:\n",
        "              t1_arr.append(1)\n",
        "              t2_arr.append(0)\n",
        "          if win == t2:\n",
        "              t1_arr.append(0)\n",
        "              t2_arr.append(1)\n",
        "  win_by_year = pd.DataFrame([t1_arr, t2_arr], columns = year_arr, index = [t1, t2])\n",
        "  print(\"Head to Head:\",t1,'v/s',t2)\n",
        "  print(t1+':', t1_win)\n",
        "  print(t2+':', t2_win) \n",
        "  return win_by_year"
      ],
      "execution_count": 15,
      "outputs": []
    },
    {
      "cell_type": "markdown",
      "metadata": {
        "id": "dmtJR_lee11B"
      },
      "source": [
        "##### Wins By Year Function"
      ]
    },
    {
      "cell_type": "markdown",
      "metadata": {
        "id": "qaNfOMxVWaAz"
      },
      "source": [
        "##### Toss Function"
      ]
    },
    {
      "cell_type": "code",
      "metadata": {
        "id": "ev3iEBjMPWlH"
      },
      "source": [
        "def toss(t1, t2):\n",
        "  t1_toss = match[match['toss_winner']==t1].reset_index()['toss_decision']\n",
        "  t2_toss = match[match['toss_winner']==t2].reset_index()['toss_decision']\n",
        "  toss_df = t1_toss.append(t2_toss).reset_index().drop(['index'], axis=1)\n",
        "  field = 0\n",
        "  bat = 0\n",
        "  for i in toss_df['toss_decision']:\n",
        "      if i == 'field':\n",
        "        field+=1\n",
        "      if i == 'bat':\n",
        "        bat+=1\n",
        "  print(\"Toss Prediction:\")\n",
        "  print('Field:',field)\n",
        "  print('Bat:', bat) "
      ],
      "execution_count": 16,
      "outputs": []
    },
    {
      "cell_type": "markdown",
      "metadata": {
        "id": "U2Fn5mVee11I"
      },
      "source": [
        "##### Bowler wickets calculation function"
      ]
    },
    {
      "cell_type": "code",
      "metadata": {
        "id": "d4ydpYHue11J"
      },
      "source": [
        "def wicketsDef(name):\n",
        "    bowler = deli[deli['bowler'] == name]\n",
        "    bowler = bowler[['match_id','bowler','dismissal_kind']].reset_index().drop(['index'], axis=1)\n",
        "    out = bowler.groupby(['match_id'], sort = False)['dismissal_kind'].sum().reset_index()\n",
        "    out['wickets'] = out['dismissal_kind']\n",
        "    out = out.drop(['dismissal_kind'], axis=1)\n",
        "    wick = out['wickets'].values\n",
        "    tot_wic = 0\n",
        "    tot_mat = 0\n",
        "    for i in wick:\n",
        "        tot_wic += i\n",
        "        tot_mat+=1\n",
        "    print('Till date',name, 'has taken',tot_wic,'wickets in',tot_mat,'matches at an average of',tot_wic/tot_mat,'wickets per match.')"
      ],
      "execution_count": 17,
      "outputs": []
    },
    {
      "cell_type": "markdown",
      "metadata": {
        "id": "fJ7V3NZge11R"
      },
      "source": [
        "##### Batsman runs calculation function"
      ]
    },
    {
      "cell_type": "code",
      "metadata": {
        "id": "WB5UdgUwe11c"
      },
      "source": [
        "def runsDef(name):\n",
        "    batsman = deli[deli['batsman'] == 'RG Sharma']\n",
        "    runs = batsman[['match_id','batsman_runs']].reset_index().drop(['index'], axis=1)\n",
        "    runs = runs.groupby(['match_id'], sort = False)['batsman_runs'].sum().reset_index()\n",
        "    runs['runs'] = runs['batsman_runs']\n",
        "    runs = runs.drop(['batsman_runs'], axis=1)\n",
        "    run = runs['runs'].values\n",
        "    tot_run = 0\n",
        "    tot_mat = 0\n",
        "    for i in run:\n",
        "        tot_run += i\n",
        "        tot_mat+=1\n",
        "    print('Till date',name, 'has made',tot_run,'runs in',tot_mat,'matches at an average of',tot_run/tot_mat,'runs per match.')"
      ],
      "execution_count": 18,
      "outputs": []
    },
    {
      "cell_type": "markdown",
      "metadata": {
        "id": "YCN3gHpde11j"
      },
      "source": [
        "## Predicting Outputs"
      ]
    },
    {
      "cell_type": "markdown",
      "metadata": {
        "id": "jUQAwC48e11k"
      },
      "source": [
        "##### Defining Variables"
      ]
    },
    {
      "cell_type": "code",
      "metadata": {
        "id": "2buWceuSe11o"
      },
      "source": [
        "bowler = 'K Rabada'\n",
        "batsman = 'RG Sharma'\n",
        "t1, t2 = 'DC','MI'"
      ],
      "execution_count": 19,
      "outputs": []
    },
    {
      "cell_type": "markdown",
      "metadata": {
        "id": "jXfLuCNde111"
      },
      "source": [
        "##### Calling functions"
      ]
    },
    {
      "cell_type": "code",
      "metadata": {
        "id": "dnd4xbise112",
        "outputId": "cf5a71d8-62bc-4124-986e-8c39cd4cffe9",
        "colab": {
          "base_uri": "https://localhost:8080/",
          "height": 162
        }
      },
      "source": [
        "head_tab = head(t1, t2)\n",
        "head_tab"
      ],
      "execution_count": 20,
      "outputs": [
        {
          "output_type": "stream",
          "text": [
            "Head to Head: DC v/s MI\n",
            "DC: 12\n",
            "MI: 12\n"
          ],
          "name": "stdout"
        },
        {
          "output_type": "execute_result",
          "data": {
            "text/html": [
              "<div>\n",
              "<style scoped>\n",
              "    .dataframe tbody tr th:only-of-type {\n",
              "        vertical-align: middle;\n",
              "    }\n",
              "\n",
              "    .dataframe tbody tr th {\n",
              "        vertical-align: top;\n",
              "    }\n",
              "\n",
              "    .dataframe thead th {\n",
              "        text-align: right;\n",
              "    }\n",
              "</style>\n",
              "<table border=\"1\" class=\"dataframe\">\n",
              "  <thead>\n",
              "    <tr style=\"text-align: right;\">\n",
              "      <th></th>\n",
              "      <th>2008</th>\n",
              "      <th>2009</th>\n",
              "      <th>2010</th>\n",
              "      <th>2011</th>\n",
              "      <th>2012</th>\n",
              "      <th>2013</th>\n",
              "      <th>2014</th>\n",
              "      <th>2015</th>\n",
              "      <th>2016</th>\n",
              "      <th>2017</th>\n",
              "      <th>2018</th>\n",
              "      <th>2019</th>\n",
              "    </tr>\n",
              "  </thead>\n",
              "  <tbody>\n",
              "    <tr>\n",
              "      <th>DC</th>\n",
              "      <td>1</td>\n",
              "      <td>2</td>\n",
              "      <td>0</td>\n",
              "      <td>0</td>\n",
              "      <td>2</td>\n",
              "      <td>1</td>\n",
              "      <td>1</td>\n",
              "      <td>1</td>\n",
              "      <td>1</td>\n",
              "      <td>0</td>\n",
              "      <td>2</td>\n",
              "      <td>1</td>\n",
              "    </tr>\n",
              "    <tr>\n",
              "      <th>MI</th>\n",
              "      <td>1</td>\n",
              "      <td>0</td>\n",
              "      <td>2</td>\n",
              "      <td>2</td>\n",
              "      <td>0</td>\n",
              "      <td>1</td>\n",
              "      <td>1</td>\n",
              "      <td>1</td>\n",
              "      <td>1</td>\n",
              "      <td>2</td>\n",
              "      <td>0</td>\n",
              "      <td>1</td>\n",
              "    </tr>\n",
              "  </tbody>\n",
              "</table>\n",
              "</div>"
            ],
            "text/plain": [
              "    2008  2009  2010  2011  2012  2013  2014  2015  2016  2017  2018  2019\n",
              "DC     1     2     0     0     2     1     1     1     1     0     2     1\n",
              "MI     1     0     2     2     0     1     1     1     1     2     0     1"
            ]
          },
          "metadata": {
            "tags": []
          },
          "execution_count": 20
        }
      ]
    },
    {
      "cell_type": "code",
      "metadata": {
        "id": "WZhovAfbe118",
        "outputId": "73c7a054-17a9-4aa3-b1e9-121c0970ccfc",
        "colab": {
          "base_uri": "https://localhost:8080/",
          "height": 136
        }
      },
      "source": [
        "toss(t1,t2)\n",
        "print()\n",
        "wicketsDef(bowler)\n",
        "print()\n",
        "runsDef(batsman)"
      ],
      "execution_count": 22,
      "outputs": [
        {
          "output_type": "stream",
          "text": [
            "Toss Prediction:\n",
            "Field: 113\n",
            "Bat: 74\n",
            "\n",
            "Till date K Rabada has taken 31 wickets in 18 matches at an average of 1.7222222222222223 wickets per match.\n",
            "\n",
            "Till date RG Sharma has made 4914 runs in 182 matches at an average of 27.0 runs per match.\n"
          ],
          "name": "stdout"
        }
      ]
    }
  ]
}