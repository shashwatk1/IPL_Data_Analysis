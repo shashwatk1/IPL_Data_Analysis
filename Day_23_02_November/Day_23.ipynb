{
 "cells": [
  {
   "cell_type": "markdown",
   "metadata": {
    "id": "B4-4wcMKVZ6e"
   },
   "source": [
    "##### Importing necessary libraries"
   ]
  },
  {
   "cell_type": "code",
   "execution_count": 1,
   "metadata": {
    "id": "YgqUQ-Ixtum-"
   },
   "outputs": [],
   "source": [
    "import pandas as pd\n",
    "import numpy as np\n",
    "import matplotlib.pyplot as plt\n",
    "%matplotlib inline"
   ]
  },
  {
   "cell_type": "markdown",
   "metadata": {
    "id": "SE6YzLxaVlDl"
   },
   "source": [
    "##### Importing Data"
   ]
  },
  {
   "cell_type": "code",
   "execution_count": 2,
   "metadata": {
    "id": "YZw2Bgvmt0o2"
   },
   "outputs": [],
   "source": [
    "deli = pd.read_csv(\"https://raw.githubusercontent.com/shashwatk1/IPL_Data_Analysis/main/data/deliveries.csv\")\n",
    "match = pd.read_csv(\"https://raw.githubusercontent.com/shashwatk1/IPL_Data_Analysis/main/data/matches.csv\")"
   ]
  },
  {
   "cell_type": "code",
   "execution_count": 3,
   "metadata": {
    "colab": {
     "base_uri": "https://localhost:8080/",
     "height": 411
    },
    "id": "pr5I5ilHt707",
    "outputId": "2e26e99c-94ab-4679-e006-d1f8fbdf5eb4",
    "scrolled": true
   },
   "outputs": [
    {
     "name": "stdout",
     "output_type": "stream",
     "text": [
      "Deliveries: (179078, 21)\n"
     ]
    },
    {
     "data": {
      "text/html": [
       "<div>\n",
       "<style scoped>\n",
       "    .dataframe tbody tr th:only-of-type {\n",
       "        vertical-align: middle;\n",
       "    }\n",
       "\n",
       "    .dataframe tbody tr th {\n",
       "        vertical-align: top;\n",
       "    }\n",
       "\n",
       "    .dataframe thead th {\n",
       "        text-align: right;\n",
       "    }\n",
       "</style>\n",
       "<table border=\"1\" class=\"dataframe\">\n",
       "  <thead>\n",
       "    <tr style=\"text-align: right;\">\n",
       "      <th></th>\n",
       "      <th>match_id</th>\n",
       "      <th>inning</th>\n",
       "      <th>batting_team</th>\n",
       "      <th>bowling_team</th>\n",
       "      <th>over</th>\n",
       "      <th>ball</th>\n",
       "      <th>batsman</th>\n",
       "      <th>non_striker</th>\n",
       "      <th>bowler</th>\n",
       "      <th>is_super_over</th>\n",
       "      <th>...</th>\n",
       "      <th>bye_runs</th>\n",
       "      <th>legbye_runs</th>\n",
       "      <th>noball_runs</th>\n",
       "      <th>penalty_runs</th>\n",
       "      <th>batsman_runs</th>\n",
       "      <th>extra_runs</th>\n",
       "      <th>total_runs</th>\n",
       "      <th>player_dismissed</th>\n",
       "      <th>dismissal_kind</th>\n",
       "      <th>fielder</th>\n",
       "    </tr>\n",
       "  </thead>\n",
       "  <tbody>\n",
       "    <tr>\n",
       "      <th>0</th>\n",
       "      <td>1</td>\n",
       "      <td>1</td>\n",
       "      <td>Sunrisers Hyderabad</td>\n",
       "      <td>Royal Challengers Bangalore</td>\n",
       "      <td>1</td>\n",
       "      <td>1</td>\n",
       "      <td>DA Warner</td>\n",
       "      <td>S Dhawan</td>\n",
       "      <td>TS Mills</td>\n",
       "      <td>0</td>\n",
       "      <td>...</td>\n",
       "      <td>0</td>\n",
       "      <td>0</td>\n",
       "      <td>0</td>\n",
       "      <td>0</td>\n",
       "      <td>0</td>\n",
       "      <td>0</td>\n",
       "      <td>0</td>\n",
       "      <td>NaN</td>\n",
       "      <td>NaN</td>\n",
       "      <td>NaN</td>\n",
       "    </tr>\n",
       "    <tr>\n",
       "      <th>1</th>\n",
       "      <td>1</td>\n",
       "      <td>1</td>\n",
       "      <td>Sunrisers Hyderabad</td>\n",
       "      <td>Royal Challengers Bangalore</td>\n",
       "      <td>1</td>\n",
       "      <td>2</td>\n",
       "      <td>DA Warner</td>\n",
       "      <td>S Dhawan</td>\n",
       "      <td>TS Mills</td>\n",
       "      <td>0</td>\n",
       "      <td>...</td>\n",
       "      <td>0</td>\n",
       "      <td>0</td>\n",
       "      <td>0</td>\n",
       "      <td>0</td>\n",
       "      <td>0</td>\n",
       "      <td>0</td>\n",
       "      <td>0</td>\n",
       "      <td>NaN</td>\n",
       "      <td>NaN</td>\n",
       "      <td>NaN</td>\n",
       "    </tr>\n",
       "    <tr>\n",
       "      <th>2</th>\n",
       "      <td>1</td>\n",
       "      <td>1</td>\n",
       "      <td>Sunrisers Hyderabad</td>\n",
       "      <td>Royal Challengers Bangalore</td>\n",
       "      <td>1</td>\n",
       "      <td>3</td>\n",
       "      <td>DA Warner</td>\n",
       "      <td>S Dhawan</td>\n",
       "      <td>TS Mills</td>\n",
       "      <td>0</td>\n",
       "      <td>...</td>\n",
       "      <td>0</td>\n",
       "      <td>0</td>\n",
       "      <td>0</td>\n",
       "      <td>0</td>\n",
       "      <td>4</td>\n",
       "      <td>0</td>\n",
       "      <td>4</td>\n",
       "      <td>NaN</td>\n",
       "      <td>NaN</td>\n",
       "      <td>NaN</td>\n",
       "    </tr>\n",
       "    <tr>\n",
       "      <th>3</th>\n",
       "      <td>1</td>\n",
       "      <td>1</td>\n",
       "      <td>Sunrisers Hyderabad</td>\n",
       "      <td>Royal Challengers Bangalore</td>\n",
       "      <td>1</td>\n",
       "      <td>4</td>\n",
       "      <td>DA Warner</td>\n",
       "      <td>S Dhawan</td>\n",
       "      <td>TS Mills</td>\n",
       "      <td>0</td>\n",
       "      <td>...</td>\n",
       "      <td>0</td>\n",
       "      <td>0</td>\n",
       "      <td>0</td>\n",
       "      <td>0</td>\n",
       "      <td>0</td>\n",
       "      <td>0</td>\n",
       "      <td>0</td>\n",
       "      <td>NaN</td>\n",
       "      <td>NaN</td>\n",
       "      <td>NaN</td>\n",
       "    </tr>\n",
       "    <tr>\n",
       "      <th>4</th>\n",
       "      <td>1</td>\n",
       "      <td>1</td>\n",
       "      <td>Sunrisers Hyderabad</td>\n",
       "      <td>Royal Challengers Bangalore</td>\n",
       "      <td>1</td>\n",
       "      <td>5</td>\n",
       "      <td>DA Warner</td>\n",
       "      <td>S Dhawan</td>\n",
       "      <td>TS Mills</td>\n",
       "      <td>0</td>\n",
       "      <td>...</td>\n",
       "      <td>0</td>\n",
       "      <td>0</td>\n",
       "      <td>0</td>\n",
       "      <td>0</td>\n",
       "      <td>0</td>\n",
       "      <td>2</td>\n",
       "      <td>2</td>\n",
       "      <td>NaN</td>\n",
       "      <td>NaN</td>\n",
       "      <td>NaN</td>\n",
       "    </tr>\n",
       "  </tbody>\n",
       "</table>\n",
       "<p>5 rows × 21 columns</p>\n",
       "</div>"
      ],
      "text/plain": [
       "   match_id  inning         batting_team                 bowling_team  over  \\\n",
       "0         1       1  Sunrisers Hyderabad  Royal Challengers Bangalore     1   \n",
       "1         1       1  Sunrisers Hyderabad  Royal Challengers Bangalore     1   \n",
       "2         1       1  Sunrisers Hyderabad  Royal Challengers Bangalore     1   \n",
       "3         1       1  Sunrisers Hyderabad  Royal Challengers Bangalore     1   \n",
       "4         1       1  Sunrisers Hyderabad  Royal Challengers Bangalore     1   \n",
       "\n",
       "   ball    batsman non_striker    bowler  is_super_over  ...  bye_runs  \\\n",
       "0     1  DA Warner    S Dhawan  TS Mills              0  ...         0   \n",
       "1     2  DA Warner    S Dhawan  TS Mills              0  ...         0   \n",
       "2     3  DA Warner    S Dhawan  TS Mills              0  ...         0   \n",
       "3     4  DA Warner    S Dhawan  TS Mills              0  ...         0   \n",
       "4     5  DA Warner    S Dhawan  TS Mills              0  ...         0   \n",
       "\n",
       "   legbye_runs  noball_runs  penalty_runs  batsman_runs  extra_runs  \\\n",
       "0            0            0             0             0           0   \n",
       "1            0            0             0             0           0   \n",
       "2            0            0             0             4           0   \n",
       "3            0            0             0             0           0   \n",
       "4            0            0             0             0           2   \n",
       "\n",
       "   total_runs  player_dismissed dismissal_kind fielder  \n",
       "0           0               NaN            NaN     NaN  \n",
       "1           0               NaN            NaN     NaN  \n",
       "2           4               NaN            NaN     NaN  \n",
       "3           0               NaN            NaN     NaN  \n",
       "4           2               NaN            NaN     NaN  \n",
       "\n",
       "[5 rows x 21 columns]"
      ]
     },
     "execution_count": 3,
     "metadata": {},
     "output_type": "execute_result"
    }
   ],
   "source": [
    "print(\"Deliveries:\",deli.shape)\n",
    "deli.head()"
   ]
  },
  {
   "cell_type": "code",
   "execution_count": 4,
   "metadata": {
    "colab": {
     "base_uri": "https://localhost:8080/",
     "height": 462
    },
    "id": "48Ci8D4Xt_UL",
    "outputId": "ab85cf64-0d2c-45ab-c0cd-fe9c117c5337"
   },
   "outputs": [
    {
     "name": "stdout",
     "output_type": "stream",
     "text": [
      "Matches: (756, 18)\n"
     ]
    },
    {
     "data": {
      "text/html": [
       "<div>\n",
       "<style scoped>\n",
       "    .dataframe tbody tr th:only-of-type {\n",
       "        vertical-align: middle;\n",
       "    }\n",
       "\n",
       "    .dataframe tbody tr th {\n",
       "        vertical-align: top;\n",
       "    }\n",
       "\n",
       "    .dataframe thead th {\n",
       "        text-align: right;\n",
       "    }\n",
       "</style>\n",
       "<table border=\"1\" class=\"dataframe\">\n",
       "  <thead>\n",
       "    <tr style=\"text-align: right;\">\n",
       "      <th></th>\n",
       "      <th>id</th>\n",
       "      <th>season</th>\n",
       "      <th>city</th>\n",
       "      <th>date</th>\n",
       "      <th>team1</th>\n",
       "      <th>team2</th>\n",
       "      <th>toss_winner</th>\n",
       "      <th>toss_decision</th>\n",
       "      <th>result</th>\n",
       "      <th>dl_applied</th>\n",
       "      <th>winner</th>\n",
       "      <th>win_by_runs</th>\n",
       "      <th>win_by_wickets</th>\n",
       "      <th>player_of_match</th>\n",
       "      <th>venue</th>\n",
       "      <th>umpire1</th>\n",
       "      <th>umpire2</th>\n",
       "      <th>umpire3</th>\n",
       "    </tr>\n",
       "  </thead>\n",
       "  <tbody>\n",
       "    <tr>\n",
       "      <th>0</th>\n",
       "      <td>1</td>\n",
       "      <td>2017</td>\n",
       "      <td>Hyderabad</td>\n",
       "      <td>2017-04-05</td>\n",
       "      <td>Sunrisers Hyderabad</td>\n",
       "      <td>Royal Challengers Bangalore</td>\n",
       "      <td>Royal Challengers Bangalore</td>\n",
       "      <td>field</td>\n",
       "      <td>normal</td>\n",
       "      <td>0</td>\n",
       "      <td>Sunrisers Hyderabad</td>\n",
       "      <td>35</td>\n",
       "      <td>0</td>\n",
       "      <td>Yuvraj Singh</td>\n",
       "      <td>Rajiv Gandhi International Stadium, Uppal</td>\n",
       "      <td>AY Dandekar</td>\n",
       "      <td>NJ Llong</td>\n",
       "      <td>NaN</td>\n",
       "    </tr>\n",
       "    <tr>\n",
       "      <th>1</th>\n",
       "      <td>2</td>\n",
       "      <td>2017</td>\n",
       "      <td>Pune</td>\n",
       "      <td>2017-04-06</td>\n",
       "      <td>Mumbai Indians</td>\n",
       "      <td>Rising Pune Supergiant</td>\n",
       "      <td>Rising Pune Supergiant</td>\n",
       "      <td>field</td>\n",
       "      <td>normal</td>\n",
       "      <td>0</td>\n",
       "      <td>Rising Pune Supergiant</td>\n",
       "      <td>0</td>\n",
       "      <td>7</td>\n",
       "      <td>SPD Smith</td>\n",
       "      <td>Maharashtra Cricket Association Stadium</td>\n",
       "      <td>A Nand Kishore</td>\n",
       "      <td>S Ravi</td>\n",
       "      <td>NaN</td>\n",
       "    </tr>\n",
       "    <tr>\n",
       "      <th>2</th>\n",
       "      <td>3</td>\n",
       "      <td>2017</td>\n",
       "      <td>Rajkot</td>\n",
       "      <td>2017-04-07</td>\n",
       "      <td>Gujarat Lions</td>\n",
       "      <td>Kolkata Knight Riders</td>\n",
       "      <td>Kolkata Knight Riders</td>\n",
       "      <td>field</td>\n",
       "      <td>normal</td>\n",
       "      <td>0</td>\n",
       "      <td>Kolkata Knight Riders</td>\n",
       "      <td>0</td>\n",
       "      <td>10</td>\n",
       "      <td>CA Lynn</td>\n",
       "      <td>Saurashtra Cricket Association Stadium</td>\n",
       "      <td>Nitin Menon</td>\n",
       "      <td>CK Nandan</td>\n",
       "      <td>NaN</td>\n",
       "    </tr>\n",
       "    <tr>\n",
       "      <th>3</th>\n",
       "      <td>4</td>\n",
       "      <td>2017</td>\n",
       "      <td>Indore</td>\n",
       "      <td>2017-04-08</td>\n",
       "      <td>Rising Pune Supergiant</td>\n",
       "      <td>Kings XI Punjab</td>\n",
       "      <td>Kings XI Punjab</td>\n",
       "      <td>field</td>\n",
       "      <td>normal</td>\n",
       "      <td>0</td>\n",
       "      <td>Kings XI Punjab</td>\n",
       "      <td>0</td>\n",
       "      <td>6</td>\n",
       "      <td>GJ Maxwell</td>\n",
       "      <td>Holkar Cricket Stadium</td>\n",
       "      <td>AK Chaudhary</td>\n",
       "      <td>C Shamshuddin</td>\n",
       "      <td>NaN</td>\n",
       "    </tr>\n",
       "    <tr>\n",
       "      <th>4</th>\n",
       "      <td>5</td>\n",
       "      <td>2017</td>\n",
       "      <td>Bangalore</td>\n",
       "      <td>2017-04-08</td>\n",
       "      <td>Royal Challengers Bangalore</td>\n",
       "      <td>Delhi Daredevils</td>\n",
       "      <td>Royal Challengers Bangalore</td>\n",
       "      <td>bat</td>\n",
       "      <td>normal</td>\n",
       "      <td>0</td>\n",
       "      <td>Royal Challengers Bangalore</td>\n",
       "      <td>15</td>\n",
       "      <td>0</td>\n",
       "      <td>KM Jadhav</td>\n",
       "      <td>M Chinnaswamy Stadium</td>\n",
       "      <td>NaN</td>\n",
       "      <td>NaN</td>\n",
       "      <td>NaN</td>\n",
       "    </tr>\n",
       "  </tbody>\n",
       "</table>\n",
       "</div>"
      ],
      "text/plain": [
       "   id  season       city        date                        team1  \\\n",
       "0   1    2017  Hyderabad  2017-04-05          Sunrisers Hyderabad   \n",
       "1   2    2017       Pune  2017-04-06               Mumbai Indians   \n",
       "2   3    2017     Rajkot  2017-04-07                Gujarat Lions   \n",
       "3   4    2017     Indore  2017-04-08       Rising Pune Supergiant   \n",
       "4   5    2017  Bangalore  2017-04-08  Royal Challengers Bangalore   \n",
       "\n",
       "                         team2                  toss_winner toss_decision  \\\n",
       "0  Royal Challengers Bangalore  Royal Challengers Bangalore         field   \n",
       "1       Rising Pune Supergiant       Rising Pune Supergiant         field   \n",
       "2        Kolkata Knight Riders        Kolkata Knight Riders         field   \n",
       "3              Kings XI Punjab              Kings XI Punjab         field   \n",
       "4             Delhi Daredevils  Royal Challengers Bangalore           bat   \n",
       "\n",
       "   result  dl_applied                       winner  win_by_runs  \\\n",
       "0  normal           0          Sunrisers Hyderabad           35   \n",
       "1  normal           0       Rising Pune Supergiant            0   \n",
       "2  normal           0        Kolkata Knight Riders            0   \n",
       "3  normal           0              Kings XI Punjab            0   \n",
       "4  normal           0  Royal Challengers Bangalore           15   \n",
       "\n",
       "   win_by_wickets player_of_match                                      venue  \\\n",
       "0               0    Yuvraj Singh  Rajiv Gandhi International Stadium, Uppal   \n",
       "1               7       SPD Smith    Maharashtra Cricket Association Stadium   \n",
       "2              10         CA Lynn     Saurashtra Cricket Association Stadium   \n",
       "3               6      GJ Maxwell                     Holkar Cricket Stadium   \n",
       "4               0       KM Jadhav                      M Chinnaswamy Stadium   \n",
       "\n",
       "          umpire1        umpire2 umpire3  \n",
       "0     AY Dandekar       NJ Llong     NaN  \n",
       "1  A Nand Kishore         S Ravi     NaN  \n",
       "2     Nitin Menon      CK Nandan     NaN  \n",
       "3    AK Chaudhary  C Shamshuddin     NaN  \n",
       "4             NaN            NaN     NaN  "
      ]
     },
     "execution_count": 4,
     "metadata": {},
     "output_type": "execute_result"
    }
   ],
   "source": [
    "print(\"Matches:\",match.shape)\n",
    "match.head()"
   ]
  },
  {
   "cell_type": "code",
   "execution_count": 5,
   "metadata": {
    "colab": {
     "base_uri": "https://localhost:8080/",
     "height": 391
    },
    "id": "drTfwNmtuAbr",
    "outputId": "58cf9864-67c4-4671-dff3-7851d1b6f0b4"
   },
   "outputs": [
    {
     "data": {
      "text/plain": [
       "match_id             int64\n",
       "inning               int64\n",
       "batting_team        object\n",
       "bowling_team        object\n",
       "over                 int64\n",
       "ball                 int64\n",
       "batsman             object\n",
       "non_striker         object\n",
       "bowler              object\n",
       "is_super_over        int64\n",
       "wide_runs            int64\n",
       "bye_runs             int64\n",
       "legbye_runs          int64\n",
       "noball_runs          int64\n",
       "penalty_runs         int64\n",
       "batsman_runs         int64\n",
       "extra_runs           int64\n",
       "total_runs           int64\n",
       "player_dismissed    object\n",
       "dismissal_kind      object\n",
       "fielder             object\n",
       "dtype: object"
      ]
     },
     "execution_count": 5,
     "metadata": {},
     "output_type": "execute_result"
    }
   ],
   "source": [
    "deli.dtypes"
   ]
  },
  {
   "cell_type": "code",
   "execution_count": 6,
   "metadata": {
    "colab": {
     "base_uri": "https://localhost:8080/",
     "height": 340
    },
    "id": "CkZ_oBr0uCEr",
    "outputId": "769707a5-c563-4311-ac33-58db74350905"
   },
   "outputs": [
    {
     "data": {
      "text/plain": [
       "id                  int64\n",
       "season              int64\n",
       "city               object\n",
       "date               object\n",
       "team1              object\n",
       "team2              object\n",
       "toss_winner        object\n",
       "toss_decision      object\n",
       "result             object\n",
       "dl_applied          int64\n",
       "winner             object\n",
       "win_by_runs         int64\n",
       "win_by_wickets      int64\n",
       "player_of_match    object\n",
       "venue              object\n",
       "umpire1            object\n",
       "umpire2            object\n",
       "umpire3            object\n",
       "dtype: object"
      ]
     },
     "execution_count": 6,
     "metadata": {},
     "output_type": "execute_result"
    }
   ],
   "source": [
    "match.dtypes"
   ]
  },
  {
   "cell_type": "markdown",
   "metadata": {
    "id": "qimcQLUWQ_78"
   },
   "source": [
    "### Data Preprocessing"
   ]
  },
  {
   "cell_type": "markdown",
   "metadata": {
    "id": "oCo0NOYgVsix"
   },
   "source": [
    "##### Seeing the unique values in some of the columns"
   ]
  },
  {
   "cell_type": "code",
   "execution_count": 7,
   "metadata": {
    "colab": {
     "base_uri": "https://localhost:8080/",
     "height": 1000
    },
    "id": "wUEUxqpYzX-d",
    "outputId": "24c0332b-0eaa-4681-e6c4-7045cdfb8643"
   },
   "outputs": [
    {
     "name": "stdout",
     "output_type": "stream",
     "text": [
      "Deliveries - Colunm Name: inning\n",
      "Unique Values: [1 2 3 4 5] \n",
      "\n",
      "Deliveries - Colunm Name: batting_team\n",
      "Unique Values: ['Sunrisers Hyderabad' 'Royal Challengers Bangalore' 'Mumbai Indians'\n",
      " 'Rising Pune Supergiant' 'Gujarat Lions' 'Kolkata Knight Riders'\n",
      " 'Kings XI Punjab' 'Delhi Daredevils' 'Chennai Super Kings'\n",
      " 'Rajasthan Royals' 'Deccan Chargers' 'Kochi Tuskers Kerala'\n",
      " 'Pune Warriors' 'Rising Pune Supergiants' 'Delhi Capitals'] \n",
      "\n",
      "Deliveries - Colunm Name: over\n",
      "Unique Values: [ 1  2  3  4  5  6  7  8  9 10 11 12 13 14 15 16 17 18 19 20] \n",
      "\n",
      "Deliveries - Colunm Name: ball\n",
      "Unique Values: [1 2 3 4 5 6 7 8 9] \n",
      "\n",
      "Deliveries - Colunm Name: is_super_over\n",
      "Unique Values: [0 1] \n",
      "\n",
      "Deliveries - Colunm Name: wide_runs\n",
      "Unique Values: [0 2 1 5 3 4] \n",
      "\n",
      "Deliveries - Colunm Name: bye_runs\n",
      "Unique Values: [0 1 4 2 3] \n",
      "\n",
      "Deliveries - Colunm Name: legbye_runs\n",
      "Unique Values: [0 1 2 5 3 4] \n",
      "\n",
      "Deliveries - Colunm Name: noball_runs\n",
      "Unique Values: [0 1 2 5 3] \n",
      "\n",
      "Deliveries - Colunm Name: penalty_runs\n",
      "Unique Values: [0 5] \n",
      "\n",
      "Deliveries - Colunm Name: batsman_runs\n",
      "Unique Values: [0 4 1 6 3 2 5 7] \n",
      "\n",
      "Deliveries - Colunm Name: extra_runs\n",
      "Unique Values: [0 2 1 4 5 3 7] \n",
      "\n",
      "Deliveries - Colunm Name: total_runs\n",
      "Unique Values: [ 0  4  2  1  6  3  5  7 10  8] \n",
      "\n",
      "Deliveries - Colunm Name: dismissal_kind\n",
      "Unique Values: [nan 'caught' 'bowled' 'run out' 'lbw' 'caught and bowled' 'stumped'\n",
      " 'retired hurt' 'hit wicket' 'obstructing the field'] \n",
      "\n",
      "\n",
      "---------------------------------\n",
      "\n",
      "Matches - Colunm Name: season\n",
      "Unique Values: [2017 2008 2009 2010 2011 2012 2013 2014 2015 2016 2018 2019] \n",
      "\n",
      "Matches - Colunm Name: city\n",
      "Unique Values: ['Hyderabad' 'Pune' 'Rajkot' 'Indore' 'Bangalore' 'Mumbai' 'Kolkata'\n",
      " 'Delhi' 'Chandigarh' 'Kanpur' 'Jaipur' 'Chennai' 'Cape Town'\n",
      " 'Port Elizabeth' 'Durban' 'Centurion' 'East London' 'Johannesburg'\n",
      " 'Kimberley' 'Bloemfontein' 'Ahmedabad' 'Cuttack' 'Nagpur' 'Dharamsala'\n",
      " 'Kochi' 'Visakhapatnam' 'Raipur' 'Ranchi' 'Abu Dhabi' 'Sharjah' nan\n",
      " 'Mohali' 'Bengaluru'] \n",
      "\n",
      "Matches - Colunm Name: team1\n",
      "Unique Values: ['Sunrisers Hyderabad' 'Mumbai Indians' 'Gujarat Lions'\n",
      " 'Rising Pune Supergiant' 'Royal Challengers Bangalore'\n",
      " 'Kolkata Knight Riders' 'Delhi Daredevils' 'Kings XI Punjab'\n",
      " 'Chennai Super Kings' 'Rajasthan Royals' 'Deccan Chargers'\n",
      " 'Kochi Tuskers Kerala' 'Pune Warriors' 'Rising Pune Supergiants'\n",
      " 'Delhi Capitals'] \n",
      "\n",
      "Matches - Colunm Name: toss_decision\n",
      "Unique Values: ['field' 'bat'] \n",
      "\n",
      "Matches - Colunm Name: result\n",
      "Unique Values: ['normal' 'tie' 'no result'] \n",
      "\n",
      "Matches - Colunm Name: dl_applied\n",
      "Unique Values: [0 1] \n",
      "\n",
      "Matches - Colunm Name: venue\n",
      "Unique Values: ['Rajiv Gandhi International Stadium, Uppal'\n",
      " 'Maharashtra Cricket Association Stadium'\n",
      " 'Saurashtra Cricket Association Stadium' 'Holkar Cricket Stadium'\n",
      " 'M Chinnaswamy Stadium' 'Wankhede Stadium' 'Eden Gardens'\n",
      " 'Feroz Shah Kotla' 'Punjab Cricket Association IS Bindra Stadium, Mohali'\n",
      " 'Green Park' 'Punjab Cricket Association Stadium, Mohali'\n",
      " 'Sawai Mansingh Stadium' 'MA Chidambaram Stadium, Chepauk'\n",
      " 'Dr DY Patil Sports Academy' 'Newlands' \"St George's Park\" 'Kingsmead'\n",
      " 'SuperSport Park' 'Buffalo Park' 'New Wanderers Stadium'\n",
      " 'De Beers Diamond Oval' 'OUTsurance Oval' 'Brabourne Stadium'\n",
      " 'Sardar Patel Stadium, Motera' 'Barabati Stadium'\n",
      " 'Vidarbha Cricket Association Stadium, Jamtha'\n",
      " 'Himachal Pradesh Cricket Association Stadium' 'Nehru Stadium'\n",
      " 'Dr. Y.S. Rajasekhara Reddy ACA-VDCA Cricket Stadium'\n",
      " 'Subrata Roy Sahara Stadium'\n",
      " 'Shaheed Veer Narayan Singh International Stadium'\n",
      " 'JSCA International Stadium Complex' 'Sheikh Zayed Stadium'\n",
      " 'Sharjah Cricket Stadium' 'Dubai International Cricket Stadium'\n",
      " 'M. A. Chidambaram Stadium' 'Feroz Shah Kotla Ground'\n",
      " 'M. Chinnaswamy Stadium' 'Rajiv Gandhi Intl. Cricket Stadium'\n",
      " 'IS Bindra Stadium' 'ACA-VDCA Stadium'] \n",
      "\n"
     ]
    }
   ],
   "source": [
    "for (columnName, columnData) in deli[['inning','batting_team','over','ball','is_super_over','wide_runs','bye_runs','legbye_runs','noball_runs','penalty_runs','batsman_runs','extra_runs','total_runs','dismissal_kind']].iteritems(): \n",
    "    print('Deliveries - Colunm Name:', columnName) \n",
    "    print('Unique Values:', pd.Series(columnData.values).unique(),'\\n') \n",
    "print(\"\\n---------------------------------\\n\")\n",
    "for (columnName, columnData) in match[['season','city','team1','toss_decision','result','dl_applied','venue']].iteritems(): \n",
    "    print('Matches - Colunm Name:', columnName) \n",
    "    print('Unique Values:', pd.Series(columnData.values).unique(),'\\n') "
   ]
  },
  {
   "cell_type": "markdown",
   "metadata": {
    "id": "LlEVbhRKV-hK"
   },
   "source": [
    "##### Shortening and Changing similiar names for easier understanding"
   ]
  },
  {
   "cell_type": "code",
   "execution_count": 8,
   "metadata": {
    "colab": {
     "base_uri": "https://localhost:8080/",
     "height": 68
    },
    "id": "hbUi1_cPuF7T",
    "outputId": "8700e40e-fb81-45c5-8003-2efd0cc3b839"
   },
   "outputs": [
    {
     "name": "stdout",
     "output_type": "stream",
     "text": [
      "['SRH' 'RCB' 'MI' 'RPS' 'GUJ' 'KKR' 'KXIP' 'DC' 'CSK' 'RR' 'KOCHI' 'PUNE'] Size: 12 \n",
      "\n",
      "['SRH' 'MI' 'GUJ' 'RPS' 'RCB' 'KKR' 'DC' 'KXIP' 'CSK' 'RR' 'KOCHI' 'PUNE'] Size: 12\n"
     ]
    }
   ],
   "source": [
    "old = ['Sunrisers Hyderabad', 'Royal Challengers Bangalore',\n",
    "       'Mumbai Indians', 'Rising Pune Supergiant', 'Gujarat Lions',\n",
    "       'Kolkata Knight Riders', 'Kings XI Punjab', 'Delhi Daredevils',\n",
    "       'Chennai Super Kings', 'Rajasthan Royals', 'Deccan Chargers',\n",
    "       'Kochi Tuskers Kerala', 'Pune Warriors', 'Rising Pune Supergiants',\n",
    "       'Delhi Capitals']\n",
    "new = ['SRH', 'RCB', 'MI', 'RPS', 'GUJ', 'KKR', 'KXIP', 'DC', 'CSK', 'RR', 'SRH', 'KOCHI', 'PUNE', 'RPS', 'DC']\n",
    "deli = deli.replace(old, new )\n",
    "match = match.replace(old, new)\n",
    "\n",
    "print(deli['batting_team'].unique(), \"Size:\",deli['batting_team'].unique().shape[0],'\\n')\n",
    "print(match['team1'].unique(), \"Size:\",match['team1'].unique().shape[0])"
   ]
  },
  {
   "cell_type": "code",
   "execution_count": 9,
   "metadata": {
    "colab": {
     "base_uri": "https://localhost:8080/",
     "height": 306
    },
    "id": "0Tq6W4SR5Yam",
    "outputId": "4bdfa3a9-f0e6-40b8-bcb9-361930fc7f9c"
   },
   "outputs": [
    {
     "data": {
      "text/plain": [
       "array(['Rajiv Gandhi International Stadium',\n",
       "       'Maharashtra Cricket Association Stadium',\n",
       "       'Saurashtra Cricket Association Stadium', 'Holkar Cricket Stadium',\n",
       "       'M. Chinnaswamy Stadium', 'Wankhede Stadium', 'Eden Gardens',\n",
       "       'Feroz Shah Kotla', 'Punjab Cricket Association IS Bindra Stadium',\n",
       "       'Green Park', 'Sawai Mansingh Stadium',\n",
       "       'M. A. Chidambaram Stadium', 'Dr DY Patil Sports Academy',\n",
       "       'Newlands', \"St George's Park\", 'Kingsmead', 'SuperSport Park',\n",
       "       'Buffalo Park', 'New Wanderers Stadium', 'De Beers Diamond Oval',\n",
       "       'OUTsurance Oval', 'Brabourne Stadium', 'Sardar Patel Stadium',\n",
       "       'Barabati Stadium', 'Vidarbha Cricket Association Stadium',\n",
       "       'Himachal Pradesh Cricket Association Stadium', 'Nehru Stadium',\n",
       "       'ACA-VDCA Cricket Stadium', 'Subrata Roy Sahara Stadium',\n",
       "       'Shaheed Veer Narayan Singh International Stadium',\n",
       "       'JSCA International Stadium Complex', 'Sheikh Zayed Stadium',\n",
       "       'Sharjah Cricket Stadium', 'Dubai International Cricket Stadium',\n",
       "       'ACA-VDCA Stadium'], dtype=object)"
      ]
     },
     "execution_count": 9,
     "metadata": {},
     "output_type": "execute_result"
    }
   ],
   "source": [
    "new_stad = ['Rajiv Gandhi International Stadium',\n",
    " 'Maharashtra Cricket Association Stadium',\n",
    " 'Saurashtra Cricket Association Stadium', 'Holkar Cricket Stadium',\n",
    " 'M. Chinnaswamy Stadium', 'Wankhede Stadium', 'Eden Gardens',\n",
    " 'Feroz Shah Kotla', 'Punjab Cricket Association IS Bindra Stadium',\n",
    " 'Green Park', 'Punjab Cricket Association IS Bindra Stadium',\n",
    " 'Sawai Mansingh Stadium', 'M. A. Chidambaram Stadium',\n",
    " 'Dr DY Patil Sports Academy', 'Newlands', \"St George's Park\", 'Kingsmead',\n",
    " 'SuperSport Park', 'Buffalo Park', 'New Wanderers Stadium',\n",
    " 'De Beers Diamond Oval', 'OUTsurance Oval', 'Brabourne Stadium',\n",
    " 'Sardar Patel Stadium', 'Barabati Stadium',\n",
    " 'Vidarbha Cricket Association Stadium',\n",
    " 'Himachal Pradesh Cricket Association Stadium', 'Nehru Stadium',\n",
    " 'ACA-VDCA Cricket Stadium',\n",
    " 'Subrata Roy Sahara Stadium',\n",
    " 'Shaheed Veer Narayan Singh International Stadium',\n",
    " 'JSCA International Stadium Complex', 'Sheikh Zayed Stadium',\n",
    " 'Sharjah Cricket Stadium', 'Dubai International Cricket Stadium',\n",
    " 'M. A. Chidambaram Stadium', 'Feroz Shah Kotla',\n",
    " 'M. Chinnaswamy Stadium', 'Rajiv Gandhi International Stadium',\n",
    " 'Punjab Cricket Association IS Bindra Stadium', 'ACA-VDCA Stadium'] \n",
    " \n",
    "old_stad = ['Rajiv Gandhi International Stadium, Uppal',\n",
    " 'Maharashtra Cricket Association Stadium',\n",
    " 'Saurashtra Cricket Association Stadium', 'Holkar Cricket Stadium',\n",
    " 'M Chinnaswamy Stadium', 'Wankhede Stadium', 'Eden Gardens',\n",
    " 'Feroz Shah Kotla', 'Punjab Cricket Association IS Bindra Stadium, Mohali',\n",
    " 'Green Park', 'Punjab Cricket Association Stadium, Mohali',\n",
    " 'Sawai Mansingh Stadium', 'MA Chidambaram Stadium, Chepauk',\n",
    " 'Dr DY Patil Sports Academy', 'Newlands', \"St George's Park\", 'Kingsmead',\n",
    " 'SuperSport Park', 'Buffalo Park', 'New Wanderers Stadium',\n",
    " 'De Beers Diamond Oval', 'OUTsurance Oval', 'Brabourne Stadium',\n",
    " 'Sardar Patel Stadium, Motera', 'Barabati Stadium',\n",
    " 'Vidarbha Cricket Association Stadium, Jamtha',\n",
    " 'Himachal Pradesh Cricket Association Stadium', 'Nehru Stadium',\n",
    " 'Dr. Y.S. Rajasekhara Reddy ACA-VDCA Cricket Stadium',\n",
    " 'Subrata Roy Sahara Stadium',\n",
    " 'Shaheed Veer Narayan Singh International Stadium',\n",
    " 'JSCA International Stadium Complex', 'Sheikh Zayed Stadium',\n",
    " 'Sharjah Cricket Stadium', 'Dubai International Cricket Stadium',\n",
    " 'M. A. Chidambaram Stadium', 'Feroz Shah Kotla Ground',\n",
    " 'M. Chinnaswamy Stadium', 'Rajiv Gandhi Intl. Cricket Stadium',\n",
    " 'IS Bindra Stadium', 'ACA-VDCA Stadium'] \n",
    "\n",
    "match = match.replace(old_stad, new_stad) \n",
    "match['venue'].unique()"
   ]
  },
  {
   "cell_type": "code",
   "execution_count": 10,
   "metadata": {
    "id": "K2Z24hEdex8p"
   },
   "outputs": [
    {
     "name": "stdout",
     "output_type": "stream",
     "text": [
      "          dismissal_kind  is_out\n",
      "0                 caught    5348\n",
      "1                 bowled    1581\n",
      "2                run out     852\n",
      "3                    lbw     540\n",
      "4      caught and bowled     211\n",
      "5                stumped     278\n",
      "6           retired hurt      12\n",
      "7             hit wicket      10\n",
      "8  obstructing the field       2 \n",
      "\n",
      "          dismissal_kind  dismissal_by_bowler\n",
      "0                 caught                 5348\n",
      "1                 bowled                 1581\n",
      "2                run out                    0\n",
      "3                    lbw                  540\n",
      "4      caught and bowled                  211\n",
      "5                stumped                  278\n",
      "6           retired hurt                    0\n",
      "7             hit wicket                   10\n",
      "8  obstructing the field                    0 \n",
      "\n",
      "          dismissal_kind  is_caught\n",
      "0                 caught       5348\n",
      "1                 bowled          0\n",
      "2                run out          0\n",
      "3                    lbw          0\n",
      "4      caught and bowled        211\n",
      "5                stumped          0\n",
      "6           retired hurt          0\n",
      "7             hit wicket          0\n",
      "8  obstructing the field          0\n"
     ]
    }
   ],
   "source": [
    "old_diss = [None, 'caught', 'bowled', 'run out', 'lbw', 'caught and bowled', 'stumped',\n",
    " 'retired hurt', 'hit wicket', 'obstructing the field']\n",
    "new_diss = [\"0\",\"1\",\"1\",\"0\",\"1\",\"1\",\"1\",\"0\",\"1\",\"0\"]\n",
    "new_diss2 = [\"0\",\"1\",\"1\",\"1\",\"1\",\"1\",\"1\",\"1\",\"1\",\"1\"]\n",
    "caught = [\"0\",\"1\",\"0\",\"0\",\"0\",\"1\",\"0\",\"0\",\"0\",\"0\"]\n",
    "deli['dismissal_by_bowler'] = deli['dismissal_kind'].replace(old_diss, new_diss)\n",
    "deli['dismissal_by_bowler'] = deli['dismissal_by_bowler'].astype(int)\n",
    "deli['is_out'] = deli['dismissal_kind'].replace(old_diss, new_diss2)\n",
    "deli['is_out'] = deli['is_out'].astype(int)\n",
    "deli['is_caught'] = deli['dismissal_kind'].replace(old_diss, caught)\n",
    "deli['is_caught'] = deli['is_caught'].astype(int)\n",
    "print(deli.groupby(['dismissal_kind'], sort = False)['is_out'].sum().reset_index(),'\\n')\n",
    "print(deli.groupby(['dismissal_kind'], sort = False)['dismissal_by_bowler'].sum().reset_index(),'\\n')\n",
    "print(deli.groupby(['dismissal_kind'], sort = False)['is_caught'].sum().reset_index())"
   ]
  },
  {
   "cell_type": "markdown",
   "metadata": {
    "id": "wVonTtjKWNx1"
   },
   "source": [
    "##### Removing data of matches that were not played"
   ]
  },
  {
   "cell_type": "code",
   "execution_count": 11,
   "metadata": {
    "colab": {
     "base_uri": "https://localhost:8080/",
     "height": 312
    },
    "id": "NSt8WGcJv-5b",
    "outputId": "6454d131-a153-4382-d00a-78ceff1cb524"
   },
   "outputs": [
    {
     "data": {
      "text/html": [
       "<div>\n",
       "<style scoped>\n",
       "    .dataframe tbody tr th:only-of-type {\n",
       "        vertical-align: middle;\n",
       "    }\n",
       "\n",
       "    .dataframe tbody tr th {\n",
       "        vertical-align: top;\n",
       "    }\n",
       "\n",
       "    .dataframe thead th {\n",
       "        text-align: right;\n",
       "    }\n",
       "</style>\n",
       "<table border=\"1\" class=\"dataframe\">\n",
       "  <thead>\n",
       "    <tr style=\"text-align: right;\">\n",
       "      <th></th>\n",
       "      <th>id</th>\n",
       "      <th>season</th>\n",
       "      <th>city</th>\n",
       "      <th>date</th>\n",
       "      <th>team1</th>\n",
       "      <th>team2</th>\n",
       "      <th>toss_winner</th>\n",
       "      <th>toss_decision</th>\n",
       "      <th>result</th>\n",
       "      <th>dl_applied</th>\n",
       "      <th>winner</th>\n",
       "      <th>win_by_runs</th>\n",
       "      <th>win_by_wickets</th>\n",
       "      <th>player_of_match</th>\n",
       "      <th>venue</th>\n",
       "      <th>umpire1</th>\n",
       "      <th>umpire2</th>\n",
       "      <th>umpire3</th>\n",
       "    </tr>\n",
       "  </thead>\n",
       "  <tbody>\n",
       "    <tr>\n",
       "      <th>300</th>\n",
       "      <td>301</td>\n",
       "      <td>2011</td>\n",
       "      <td>Delhi</td>\n",
       "      <td>2011-05-21</td>\n",
       "      <td>DC</td>\n",
       "      <td>PUNE</td>\n",
       "      <td>DC</td>\n",
       "      <td>bat</td>\n",
       "      <td>no result</td>\n",
       "      <td>0</td>\n",
       "      <td>NaN</td>\n",
       "      <td>0</td>\n",
       "      <td>0</td>\n",
       "      <td>NaN</td>\n",
       "      <td>Feroz Shah Kotla</td>\n",
       "      <td>SS Hazare</td>\n",
       "      <td>RJ Tucker</td>\n",
       "      <td>NaN</td>\n",
       "    </tr>\n",
       "    <tr>\n",
       "      <th>545</th>\n",
       "      <td>546</td>\n",
       "      <td>2015</td>\n",
       "      <td>Bangalore</td>\n",
       "      <td>2015-04-29</td>\n",
       "      <td>RCB</td>\n",
       "      <td>RR</td>\n",
       "      <td>RR</td>\n",
       "      <td>field</td>\n",
       "      <td>no result</td>\n",
       "      <td>0</td>\n",
       "      <td>NaN</td>\n",
       "      <td>0</td>\n",
       "      <td>0</td>\n",
       "      <td>NaN</td>\n",
       "      <td>M. Chinnaswamy Stadium</td>\n",
       "      <td>JD Cloete</td>\n",
       "      <td>PG Pathak</td>\n",
       "      <td>NaN</td>\n",
       "    </tr>\n",
       "    <tr>\n",
       "      <th>570</th>\n",
       "      <td>571</td>\n",
       "      <td>2015</td>\n",
       "      <td>Bangalore</td>\n",
       "      <td>2015-05-17</td>\n",
       "      <td>DC</td>\n",
       "      <td>RCB</td>\n",
       "      <td>RCB</td>\n",
       "      <td>field</td>\n",
       "      <td>no result</td>\n",
       "      <td>0</td>\n",
       "      <td>NaN</td>\n",
       "      <td>0</td>\n",
       "      <td>0</td>\n",
       "      <td>NaN</td>\n",
       "      <td>M. Chinnaswamy Stadium</td>\n",
       "      <td>HDPK Dharmasena</td>\n",
       "      <td>K Srinivasan</td>\n",
       "      <td>NaN</td>\n",
       "    </tr>\n",
       "    <tr>\n",
       "      <th>744</th>\n",
       "      <td>11340</td>\n",
       "      <td>2019</td>\n",
       "      <td>Bengaluru</td>\n",
       "      <td>30/04/19</td>\n",
       "      <td>RCB</td>\n",
       "      <td>RR</td>\n",
       "      <td>RR</td>\n",
       "      <td>field</td>\n",
       "      <td>no result</td>\n",
       "      <td>0</td>\n",
       "      <td>NaN</td>\n",
       "      <td>0</td>\n",
       "      <td>0</td>\n",
       "      <td>NaN</td>\n",
       "      <td>M. Chinnaswamy Stadium</td>\n",
       "      <td>Nigel Llong</td>\n",
       "      <td>Ulhas Gandhe</td>\n",
       "      <td>Anil Chaudhary</td>\n",
       "    </tr>\n",
       "  </tbody>\n",
       "</table>\n",
       "</div>"
      ],
      "text/plain": [
       "        id  season       city        date team1 team2 toss_winner  \\\n",
       "300    301    2011      Delhi  2011-05-21    DC  PUNE          DC   \n",
       "545    546    2015  Bangalore  2015-04-29   RCB    RR          RR   \n",
       "570    571    2015  Bangalore  2015-05-17    DC   RCB         RCB   \n",
       "744  11340    2019  Bengaluru    30/04/19   RCB    RR          RR   \n",
       "\n",
       "    toss_decision     result  dl_applied winner  win_by_runs  win_by_wickets  \\\n",
       "300           bat  no result           0    NaN            0               0   \n",
       "545         field  no result           0    NaN            0               0   \n",
       "570         field  no result           0    NaN            0               0   \n",
       "744         field  no result           0    NaN            0               0   \n",
       "\n",
       "    player_of_match                   venue          umpire1       umpire2  \\\n",
       "300             NaN        Feroz Shah Kotla        SS Hazare     RJ Tucker   \n",
       "545             NaN  M. Chinnaswamy Stadium        JD Cloete     PG Pathak   \n",
       "570             NaN  M. Chinnaswamy Stadium  HDPK Dharmasena  K Srinivasan   \n",
       "744             NaN  M. Chinnaswamy Stadium      Nigel Llong  Ulhas Gandhe   \n",
       "\n",
       "            umpire3  \n",
       "300             NaN  \n",
       "545             NaN  \n",
       "570             NaN  \n",
       "744  Anil Chaudhary  "
      ]
     },
     "execution_count": 11,
     "metadata": {},
     "output_type": "execute_result"
    }
   ],
   "source": [
    "match.iloc[np.where(match['winner'].isnull() == True)]"
   ]
  },
  {
   "cell_type": "code",
   "execution_count": 12,
   "metadata": {
    "colab": {
     "base_uri": "https://localhost:8080/",
     "height": 329
    },
    "id": "d84-rG5Q7bgw",
    "outputId": "cf4002ee-b77a-4525-9314-88cad3add3f0"
   },
   "outputs": [
    {
     "name": "stdout",
     "output_type": "stream",
     "text": [
      "(756, 18)\n"
     ]
    },
    {
     "data": {
      "text/html": [
       "<div>\n",
       "<style scoped>\n",
       "    .dataframe tbody tr th:only-of-type {\n",
       "        vertical-align: middle;\n",
       "    }\n",
       "\n",
       "    .dataframe tbody tr th {\n",
       "        vertical-align: top;\n",
       "    }\n",
       "\n",
       "    .dataframe thead th {\n",
       "        text-align: right;\n",
       "    }\n",
       "</style>\n",
       "<table border=\"1\" class=\"dataframe\">\n",
       "  <thead>\n",
       "    <tr style=\"text-align: right;\">\n",
       "      <th></th>\n",
       "      <th>id</th>\n",
       "      <th>season</th>\n",
       "      <th>city</th>\n",
       "      <th>date</th>\n",
       "      <th>team1</th>\n",
       "      <th>team2</th>\n",
       "      <th>toss_winner</th>\n",
       "      <th>toss_decision</th>\n",
       "      <th>result</th>\n",
       "      <th>dl_applied</th>\n",
       "      <th>winner</th>\n",
       "      <th>win_by_runs</th>\n",
       "      <th>win_by_wickets</th>\n",
       "      <th>player_of_match</th>\n",
       "      <th>venue</th>\n",
       "      <th>umpire1</th>\n",
       "      <th>umpire2</th>\n",
       "      <th>umpire3</th>\n",
       "    </tr>\n",
       "  </thead>\n",
       "  <tbody>\n",
       "    <tr>\n",
       "      <th>300</th>\n",
       "      <td>301</td>\n",
       "      <td>2011</td>\n",
       "      <td>Delhi</td>\n",
       "      <td>2011-05-21</td>\n",
       "      <td>DC</td>\n",
       "      <td>PUNE</td>\n",
       "      <td>DC</td>\n",
       "      <td>bat</td>\n",
       "      <td>no result</td>\n",
       "      <td>0</td>\n",
       "      <td>NaN</td>\n",
       "      <td>0</td>\n",
       "      <td>0</td>\n",
       "      <td>NaN</td>\n",
       "      <td>Feroz Shah Kotla</td>\n",
       "      <td>SS Hazare</td>\n",
       "      <td>RJ Tucker</td>\n",
       "      <td>NaN</td>\n",
       "    </tr>\n",
       "    <tr>\n",
       "      <th>545</th>\n",
       "      <td>546</td>\n",
       "      <td>2015</td>\n",
       "      <td>Bangalore</td>\n",
       "      <td>2015-04-29</td>\n",
       "      <td>RCB</td>\n",
       "      <td>RR</td>\n",
       "      <td>RR</td>\n",
       "      <td>field</td>\n",
       "      <td>no result</td>\n",
       "      <td>0</td>\n",
       "      <td>NaN</td>\n",
       "      <td>0</td>\n",
       "      <td>0</td>\n",
       "      <td>NaN</td>\n",
       "      <td>M. Chinnaswamy Stadium</td>\n",
       "      <td>JD Cloete</td>\n",
       "      <td>PG Pathak</td>\n",
       "      <td>NaN</td>\n",
       "    </tr>\n",
       "    <tr>\n",
       "      <th>570</th>\n",
       "      <td>571</td>\n",
       "      <td>2015</td>\n",
       "      <td>Bangalore</td>\n",
       "      <td>2015-05-17</td>\n",
       "      <td>DC</td>\n",
       "      <td>RCB</td>\n",
       "      <td>RCB</td>\n",
       "      <td>field</td>\n",
       "      <td>no result</td>\n",
       "      <td>0</td>\n",
       "      <td>NaN</td>\n",
       "      <td>0</td>\n",
       "      <td>0</td>\n",
       "      <td>NaN</td>\n",
       "      <td>M. Chinnaswamy Stadium</td>\n",
       "      <td>HDPK Dharmasena</td>\n",
       "      <td>K Srinivasan</td>\n",
       "      <td>NaN</td>\n",
       "    </tr>\n",
       "    <tr>\n",
       "      <th>744</th>\n",
       "      <td>11340</td>\n",
       "      <td>2019</td>\n",
       "      <td>Bengaluru</td>\n",
       "      <td>30/04/19</td>\n",
       "      <td>RCB</td>\n",
       "      <td>RR</td>\n",
       "      <td>RR</td>\n",
       "      <td>field</td>\n",
       "      <td>no result</td>\n",
       "      <td>0</td>\n",
       "      <td>NaN</td>\n",
       "      <td>0</td>\n",
       "      <td>0</td>\n",
       "      <td>NaN</td>\n",
       "      <td>M. Chinnaswamy Stadium</td>\n",
       "      <td>Nigel Llong</td>\n",
       "      <td>Ulhas Gandhe</td>\n",
       "      <td>Anil Chaudhary</td>\n",
       "    </tr>\n",
       "  </tbody>\n",
       "</table>\n",
       "</div>"
      ],
      "text/plain": [
       "        id  season       city        date team1 team2 toss_winner  \\\n",
       "300    301    2011      Delhi  2011-05-21    DC  PUNE          DC   \n",
       "545    546    2015  Bangalore  2015-04-29   RCB    RR          RR   \n",
       "570    571    2015  Bangalore  2015-05-17    DC   RCB         RCB   \n",
       "744  11340    2019  Bengaluru    30/04/19   RCB    RR          RR   \n",
       "\n",
       "    toss_decision     result  dl_applied winner  win_by_runs  win_by_wickets  \\\n",
       "300           bat  no result           0    NaN            0               0   \n",
       "545         field  no result           0    NaN            0               0   \n",
       "570         field  no result           0    NaN            0               0   \n",
       "744         field  no result           0    NaN            0               0   \n",
       "\n",
       "    player_of_match                   venue          umpire1       umpire2  \\\n",
       "300             NaN        Feroz Shah Kotla        SS Hazare     RJ Tucker   \n",
       "545             NaN  M. Chinnaswamy Stadium        JD Cloete     PG Pathak   \n",
       "570             NaN  M. Chinnaswamy Stadium  HDPK Dharmasena  K Srinivasan   \n",
       "744             NaN  M. Chinnaswamy Stadium      Nigel Llong  Ulhas Gandhe   \n",
       "\n",
       "            umpire3  \n",
       "300             NaN  \n",
       "545             NaN  \n",
       "570             NaN  \n",
       "744  Anil Chaudhary  "
      ]
     },
     "execution_count": 12,
     "metadata": {},
     "output_type": "execute_result"
    }
   ],
   "source": [
    "print(match.shape)\n",
    "no_res = np.where(match['result'] == 'no result')[0]\n",
    "match.iloc[no_res]"
   ]
  },
  {
   "cell_type": "code",
   "execution_count": 13,
   "metadata": {
    "id": "9ky0maYmxNK6"
   },
   "outputs": [],
   "source": [
    "for i in no_res:\n",
    "    id = match.iloc[i]['id']\n",
    "    a = np.where(deli['match_id'] == id)[0]\n",
    "    deli = deli.drop(a).reset_index().drop(['index'], axis=1)\n",
    "\n",
    "match = match.drop(no_res).reset_index().drop(['index'], axis=1)"
   ]
  },
  {
   "cell_type": "markdown",
   "metadata": {
    "id": "MmJ0XsRj49q9"
   },
   "source": [
    "#### Adding column to count extras, boundaries and dots"
   ]
  },
  {
   "cell_type": "code",
   "execution_count": 14,
   "metadata": {
    "id": "rLyEF7lh487V"
   },
   "outputs": [],
   "source": [
    "is_no = []\n",
    "is_wide = []\n",
    "is_bye = []\n",
    "is_legbye = []\n",
    "for i in deli['noball_runs']:\n",
    "    if i != 0:\n",
    "        is_no.append(1)\n",
    "    else:\n",
    "        is_no.append(0)\n",
    "\n",
    "for i in deli['wide_runs']:\n",
    "    if i != 0:\n",
    "        is_wide.append(1)\n",
    "    else:\n",
    "        is_wide.append(0)\n",
    "    \n",
    "for i in deli['bye_runs']:\n",
    "    if i != 0:\n",
    "        is_bye.append(1)\n",
    "    else:\n",
    "        is_bye.append(0)\n",
    "    \n",
    "for i in deli['legbye_runs']:\n",
    "    if i != 0:\n",
    "        is_legbye.append(1)\n",
    "    else:\n",
    "        is_legbye.append(0)\n",
    "    \n",
    "deli['is_no'] = is_no\n",
    "deli['is_wide'] = is_wide\n",
    "deli['is_bye'] = is_bye\n",
    "deli['is_legbye'] = is_legbye"
   ]
  },
  {
   "cell_type": "code",
   "execution_count": 15,
   "metadata": {},
   "outputs": [],
   "source": [
    "is_four = []\n",
    "is_six = []\n",
    "is_bound = []\n",
    "bound_runs = []\n",
    "\n",
    "for i in deli['batsman_runs']:\n",
    "    \n",
    "    if i == 4 or i == 5:\n",
    "        is_four.append(1)\n",
    "        is_six.append(0)\n",
    "        is_bound.append(1)\n",
    "        bound_runs.append(i)\n",
    "    elif i == 6 or i == 7:\n",
    "        is_four.append(0)\n",
    "        is_six.append(1)\n",
    "        is_bound.append(1)\n",
    "        bound_runs.append(i)\n",
    "    else:\n",
    "        is_four.append(0)\n",
    "        is_six.append(0)\n",
    "        is_bound.append(0)\n",
    "        bound_runs.append(0)\n",
    "        \n",
    "is_dot = []\n",
    "\n",
    "for i,j in deli[['total_runs','is_bye','is_legbye']].iterrows():\n",
    "    if j[0] == 0 or j[1] == 1 or j[2] == 1:  \n",
    "        is_dot.append(1)\n",
    "    else:\n",
    "        is_dot.append(0)\n",
    "\n",
    "      \n",
    "deli['is_four'] = is_four\n",
    "deli['is_six'] = is_six  \n",
    "deli['is_bound'] = is_bound\n",
    "deli['bound_runs'] = bound_runs  \n",
    "deli['is_dot'] = is_dot\n",
    "deli['bowler_runs'] = deli['batsman_runs'] + deli['wide_runs'] + deli['noball_runs']"
   ]
  },
  {
   "cell_type": "markdown",
   "metadata": {
    "id": "GoOEKVLKQ3QN"
   },
   "source": [
    "##### Adding year column to deliveries"
   ]
  },
  {
   "cell_type": "code",
   "execution_count": 16,
   "metadata": {
    "id": "x_aEqWJXQ2aA"
   },
   "outputs": [],
   "source": [
    "match_id = deli['match_id'].values.tolist()\n",
    "year = []\n",
    "for i in match_id:\n",
    "    y = match[match['id']==i]['season'].values.tolist()\n",
    "    year.append(y[0])\n",
    "deli['year'] = year"
   ]
  },
  {
   "cell_type": "code",
   "execution_count": 17,
   "metadata": {
    "id": "XDRfOkCMV3dM"
   },
   "outputs": [],
   "source": [
    "last3years = deli[(deli['year'] == 2017)|(deli['year'] == 2018)|(deli['year'] == 2019)]"
   ]
  },
  {
   "cell_type": "markdown",
   "metadata": {
    "id": "LPNgGwJ3V3dJ"
   },
   "source": [
    "## Functions"
   ]
  },
  {
   "cell_type": "markdown",
   "metadata": {
    "id": "cqF8QJk5WVZH"
   },
   "source": [
    "##### Head to Head Score Function"
   ]
  },
  {
   "cell_type": "code",
   "execution_count": 18,
   "metadata": {
    "id": "DX4S1Zp_91yd"
   },
   "outputs": [],
   "source": [
    "def head(t1, t2):\n",
    "    df = match\n",
    "    s1 = (df['team1'] == t1) & (df['team2'] == t2)\n",
    "    s2 = (df['team1'] == t2) & (df['team2'] == t1)\n",
    "    head = df.iloc[np.where(s1 | s2)]\n",
    "    head_to_head = head.sort_values(by = 'season').reset_index().drop(['id','index'], axis=1)\n",
    "    t1_win=0\n",
    "    t2_win=0\n",
    "    for i in head_to_head['winner']:\n",
    "        if i == t1:\n",
    "            t1_win+=1\n",
    "        if i == t2:\n",
    "            t2_win+=1\n",
    "    t1_arr = []\n",
    "    t2_arr = []\n",
    "    year_arr = []\n",
    "    for i in head_to_head[['season','winner']].iterrows():\n",
    "        index, year, win = i[0], i[1][0], i[1][1]\n",
    "        if year in year_arr:\n",
    "            if win == t1:\n",
    "                t1_arr[year_arr.index(year)]+=1  \n",
    "            if win == t2:\n",
    "                t2_arr[year_arr.index(year)]+=1  \n",
    "        else:\n",
    "            year_arr.append(year)\n",
    "            if win == t1:\n",
    "                t1_arr.append(1)\n",
    "                t2_arr.append(0)\n",
    "            if win == t2:\n",
    "                t1_arr.append(0)\n",
    "                t2_arr.append(1)\n",
    "    win_by_year = pd.DataFrame([t1_arr, t2_arr], columns = year_arr, index = [t1, t2])\n",
    "    print(\"Head to Head:\",t1,'v/s',t2)\n",
    "    print(t1+':', t1_win)\n",
    "    print(t2+':', t2_win) \n",
    "    return win_by_year"
   ]
  },
  {
   "cell_type": "markdown",
   "metadata": {},
   "source": [
    "##### Batsman Strike rate"
   ]
  },
  {
   "cell_type": "code",
   "execution_count": 19,
   "metadata": {},
   "outputs": [],
   "source": [
    "def strikeRate(t1,t2,df):\n",
    "    df = df[((df['batting_team']==t1)&(df['bowling_team']==t2))|((df['batting_team']==t2)&(df['bowling_team']==t1))]\n",
    "    count = []\n",
    "    for i in df['match_id'].unique():\n",
    "        df2 = df[df['match_id']==i]\n",
    "        run_list = df2.groupby(['batsman'])['bowler_runs'].sum()\n",
    "        four_list = df2.groupby(['batsman'])['is_four'].sum()\n",
    "        bound_list = df2.groupby(['batsman'])['is_bound'].sum()\n",
    "        ball_list = df2.groupby(['batsman'])['ball'].count() - df2.groupby(['bowler'])['is_wide'].sum()\n",
    "        df3 = pd.DataFrame({'ball':ball_list,'runs':run_list,'fours':four_list,'bounds':bound_list})\n",
    "        df3 = df3[(df3['fours']>=2)&(df3['bounds']>=4)]\n",
    "        df3 = df3[df3['ball']>10]\n",
    "        df3['rate'] = (df3['runs']/df3['ball']) * 100\n",
    "        df3 = df3[df3['rate']>130]\n",
    "        count.append(len(df3['rate'].values))\n",
    "    df4 = pd.DataFrame({'count':count})\n",
    "    category = []\n",
    "    for i in df4['count']:\n",
    "        if i <= 2:\n",
    "            category.append('0 - 2')\n",
    "        elif i<=4:\n",
    "            category.append('3 - 4')\n",
    "        elif i<=7:\n",
    "            category.append('5 - 7')\n",
    "        else:\n",
    "            category.append('8 or more')\n",
    "    df4['category'] = category\n",
    "    print(df4['count'].describe())\n",
    "    print(df4['category'].value_counts())\n",
    "    plt.hist(df4['count'], range = (df4['count'].describe()[3], df4['count'].describe()[7]))\n",
    "    plt.show()"
   ]
  },
  {
   "cell_type": "markdown",
   "metadata": {},
   "source": [
    "##### Balls to first wicket of bowler"
   ]
  },
  {
   "cell_type": "code",
   "execution_count": 20,
   "metadata": {
    "id": "IcmH-FISV3dq"
   },
   "outputs": [],
   "source": [
    "def wicketsDef(name,against, df):\n",
    "    bowler = df[df['bowler'] == name]\n",
    "    if against != '':\n",
    "        bowler = bowler[bowler['batting_team'] == against]\n",
    "        print(\"Against\",against,\"=>\")\n",
    "    else:\n",
    "        print('Total =>')\n",
    "    print(bowler.groupby(['match_id'], sort = False)['dismissal_by_bowler'].sum())\n",
    "    bowler = bowler[['match_id','dismissal_by_bowler','is_wide','is_no']].reset_index().drop(['index'], axis=1)\n",
    "    num_b = []\n",
    "    ball = 0\n",
    "    for i in bowler['match_id'].unique():\n",
    "        exdf = bowler[bowler['match_id']==i]\n",
    "        outlist = exdf['dismissal_by_bowler'].values.tolist()\n",
    "        try:\n",
    "            ball = outlist.index(1) + 1\n",
    "        except:\n",
    "            ball = 99\n",
    "        exdf = exdf.iloc[:ball]\n",
    "        ball = ball - exdf['is_wide'].sum() - exdf['is_no'].sum()\n",
    "        num_b.append(ball)\n",
    "        ball = 0\n",
    "    df2 = pd.DataFrame({'balls':num_b})\n",
    "    category = []\n",
    "    for i in df2['balls']:\n",
    "        if i <= 6:\n",
    "            category.append('0 - 6')\n",
    "        elif i<=12:\n",
    "            category.append('7 - 12')\n",
    "        elif i<=18:\n",
    "            category.append('13 - 18')\n",
    "        elif i<=24:\n",
    "            category.append('19 - 24')\n",
    "        else:\n",
    "            category.append(\"No wicket\")\n",
    "    df2['category'] = category\n",
    "    print(df2['category'].value_counts(),'\\n')\n",
    "    plt.show()"
   ]
  },
  {
   "cell_type": "markdown",
   "metadata": {},
   "source": [
    "##### Bowler Economy Rate"
   ]
  },
  {
   "cell_type": "code",
   "execution_count": 21,
   "metadata": {},
   "outputs": [],
   "source": [
    "def econRate(t1,t2,df):\n",
    "    df = df[((df['batting_team']==t1)&(df['bowling_team']==t2))|((df['batting_team']==t2)&(df['bowling_team']==t1))]\n",
    "    count = []\n",
    "    for i in df['match_id'].unique():\n",
    "        df2 = df[df['match_id']==i]\n",
    "        over_list = pd.DataFrame(df2.groupby(['bowler'])['over'].unique())['over'].values\n",
    "        run_list = df2.groupby(['bowler'])['bowler_runs'].sum()\n",
    "        dot_list = df2.groupby(['bowler'])['is_dot'].sum()\n",
    "        bound_list = df2.groupby(['bowler'])['is_bound'].sum()\n",
    "        ball_list = df2.groupby(['bowler'])['ball'].count() - df2.groupby(['bowler'])['is_wide'].sum() - df2.groupby(['bowler'])['is_no'].sum()\n",
    "        over = [len(i) for i in over_list]\n",
    "        df3 = pd.DataFrame({'over':over,'ball':ball_list,'runs':run_list,'dots':dot_list,'bounds':bound_list})\n",
    "        df3 = df3[(df3['over']>=2)&(df3['ball']>=12)]\n",
    "        df3 = df3[df3['dots']>8]\n",
    "        df3 = df3[df3['bounds']<4]\n",
    "        df3['econ'] = (df3['runs']/df3['ball'])*6\n",
    "        df3 = df3[df3['econ']<8]\n",
    "        count.append(len(df3['econ'].values))\n",
    "    df4 = pd.DataFrame({'count':count})\n",
    "    category = []\n",
    "    for i in df4['count']:\n",
    "        if i <= 1:\n",
    "            category.append('0 - 1')\n",
    "        elif i<=3:\n",
    "            category.append('2 - 3')\n",
    "        elif i<=5:\n",
    "            category.append('4 - 5')\n",
    "        else:\n",
    "            category.append('6 or more')\n",
    "    df4['category'] = category\n",
    "    print(df4['count'].describe())\n",
    "    print(df4['category'].value_counts())\n",
    "    plt.hist(df4['count'], range = (df4['count'].describe()[3], df4['count'].describe()[7]))\n",
    "    plt.show()"
   ]
  },
  {
   "cell_type": "markdown",
   "metadata": {
    "id": "A3Pf-CfrV3d1"
   },
   "source": [
    "## Predicting Outputs"
   ]
  },
  {
   "cell_type": "code",
   "execution_count": 22,
   "metadata": {
    "id": "x2i7QRmtV3d6"
   },
   "outputs": [
    {
     "name": "stdout",
     "output_type": "stream",
     "text": [
      "Head to Head: DC v/s RCB\n",
      "DC: 8\n",
      "RCB: 14\n"
     ]
    },
    {
     "data": {
      "text/html": [
       "<div>\n",
       "<style scoped>\n",
       "    .dataframe tbody tr th:only-of-type {\n",
       "        vertical-align: middle;\n",
       "    }\n",
       "\n",
       "    .dataframe tbody tr th {\n",
       "        vertical-align: top;\n",
       "    }\n",
       "\n",
       "    .dataframe thead th {\n",
       "        text-align: right;\n",
       "    }\n",
       "</style>\n",
       "<table border=\"1\" class=\"dataframe\">\n",
       "  <thead>\n",
       "    <tr style=\"text-align: right;\">\n",
       "      <th></th>\n",
       "      <th>2008</th>\n",
       "      <th>2009</th>\n",
       "      <th>2010</th>\n",
       "      <th>2011</th>\n",
       "      <th>2012</th>\n",
       "      <th>2013</th>\n",
       "      <th>2014</th>\n",
       "      <th>2015</th>\n",
       "      <th>2016</th>\n",
       "      <th>2017</th>\n",
       "      <th>2018</th>\n",
       "      <th>2019</th>\n",
       "    </tr>\n",
       "  </thead>\n",
       "  <tbody>\n",
       "    <tr>\n",
       "      <th>DC</th>\n",
       "      <td>2</td>\n",
       "      <td>1</td>\n",
       "      <td>2</td>\n",
       "      <td>0</td>\n",
       "      <td>0</td>\n",
       "      <td>0</td>\n",
       "      <td>0</td>\n",
       "      <td>0</td>\n",
       "      <td>1</td>\n",
       "      <td>0</td>\n",
       "      <td>0</td>\n",
       "      <td>2</td>\n",
       "    </tr>\n",
       "    <tr>\n",
       "      <th>RCB</th>\n",
       "      <td>0</td>\n",
       "      <td>1</td>\n",
       "      <td>0</td>\n",
       "      <td>1</td>\n",
       "      <td>2</td>\n",
       "      <td>2</td>\n",
       "      <td>2</td>\n",
       "      <td>1</td>\n",
       "      <td>1</td>\n",
       "      <td>2</td>\n",
       "      <td>2</td>\n",
       "      <td>0</td>\n",
       "    </tr>\n",
       "  </tbody>\n",
       "</table>\n",
       "</div>"
      ],
      "text/plain": [
       "     2008  2009  2010  2011  2012  2013  2014  2015  2016  2017  2018  2019\n",
       "DC      2     1     2     0     0     0     0     0     1     0     0     2\n",
       "RCB     0     1     0     1     2     2     2     1     1     2     2     0"
      ]
     },
     "execution_count": 22,
     "metadata": {},
     "output_type": "execute_result"
    }
   ],
   "source": [
    "team1, team2 = 'DC','RCB'\n",
    "head_tab = head(team1, team2)\n",
    "head_tab"
   ]
  },
  {
   "cell_type": "code",
   "execution_count": 23,
   "metadata": {
    "colab": {
     "base_uri": "https://localhost:8080/",
     "height": 162
    },
    "id": "keZvC57SV3d_",
    "outputId": "e2fb8f3b-e7b1-4466-dbde-d19c49375dae"
   },
   "outputs": [
    {
     "name": "stdout",
     "output_type": "stream",
     "text": [
      "count    6.000000\n",
      "mean     0.166667\n",
      "std      0.408248\n",
      "min      0.000000\n",
      "25%      0.000000\n",
      "50%      0.000000\n",
      "75%      0.000000\n",
      "max      1.000000\n",
      "Name: count, dtype: float64\n",
      "0 - 2    6\n",
      "Name: category, dtype: int64\n"
     ]
    },
    {
     "data": {
      "image/png": "[encoded data removed]",
      "text/plain": [
       "<Figure size 432x288 with 1 Axes>"
      ]
     },
     "metadata": {
      "needs_background": "light"
     },
     "output_type": "display_data"
    }
   ],
   "source": [
    "strikeRate(team1, team2, last3years)"
   ]
  },
  {
   "cell_type": "code",
   "execution_count": 24,
   "metadata": {
    "colab": {
     "base_uri": "https://localhost:8080/",
     "height": 204
    },
    "id": "jfBySHqBQDnB",
    "outputId": "bde897f1-f7da-4494-806a-a147cd8fab47"
   },
   "outputs": [
    {
     "name": "stdout",
     "output_type": "stream",
     "text": [
      "ALL TIME =>\n",
      "Total =>\n",
      "match_id\n",
      "24       1\n",
      "31       2\n",
      "35       0\n",
      "39       0\n",
      "41       2\n",
      "44       1\n",
      "11139    2\n",
      "11141    1\n",
      "11146    1\n",
      "11149    2\n",
      "11152    1\n",
      "11311    4\n",
      "11317    2\n",
      "11321    4\n",
      "11325    2\n",
      "11328    2\n",
      "11331    2\n",
      "11337    2\n",
      "Name: dismissal_by_bowler, dtype: int32\n",
      "13 - 18      5\n",
      "7 - 12       5\n",
      "0 - 6        4\n",
      "No wicket    2\n",
      "19 - 24      2\n",
      "Name: category, dtype: int64 \n",
      "\n",
      "AGAINST RCB =>\n",
      "Against RCB =>\n",
      "match_id\n",
      "11311    4\n",
      "11337    2\n",
      "Name: dismissal_by_bowler, dtype: int32\n",
      "0 - 6     1\n",
      "7 - 12    1\n",
      "Name: category, dtype: int64 \n",
      "\n"
     ]
    }
   ],
   "source": [
    "print(\"ALL TIME =>\")\n",
    "wicketsDef('K Rabada', '', deli)\n",
    "print(\"AGAINST\",team2,\"=>\")\n",
    "wicketsDef('K Rabada', team2, deli)"
   ]
  },
  {
   "cell_type": "code",
   "execution_count": 25,
   "metadata": {
    "colab": {
     "base_uri": "https://localhost:8080/",
     "height": 408
    },
    "id": "8n8MPbcrV3eL",
    "outputId": "58f0eaba-b221-4ae7-e068-f09e0f3db502"
   },
   "outputs": [
    {
     "name": "stdout",
     "output_type": "stream",
     "text": [
      "count    6.00000\n",
      "mean     2.00000\n",
      "std      1.67332\n",
      "min      0.00000\n",
      "25%      0.50000\n",
      "50%      2.50000\n",
      "75%      3.00000\n",
      "max      4.00000\n",
      "Name: count, dtype: float64\n",
      "2 - 3    3\n",
      "0 - 1    2\n",
      "4 - 5    1\n",
      "Name: category, dtype: int64\n"
     ]
    },
    {
     "data": {
      "image/png": "[encoded data removed]",
      "text/plain": [
       "<Figure size 432x288 with 1 Axes>"
      ]
     },
     "metadata": {
      "needs_background": "light"
     },
     "output_type": "display_data"
    }
   ],
   "source": [
    "econRate(team1, team2, last3years)"
   ]
  }
 ],
 "metadata": {
  "colab": {
   "collapsed_sections": [],
   "name": "basic_steps.ipynb",
   "provenance": [],
   "toc_visible": true
  },
  "kernelspec": {
   "display_name": "Python 3",
   "language": "python",
   "name": "python3"
  },
  "language_info": {
   "codemirror_mode": {
    "name": "ipython",
    "version": 3
   },
   "file_extension": ".py",
   "mimetype": "text/x-python",
   "name": "python",
   "nbconvert_exporter": "python",
   "pygments_lexer": "ipython3",
   "version": "3.8.3"
  }
 },
 "nbformat": 4,
 "nbformat_minor": 1
}
